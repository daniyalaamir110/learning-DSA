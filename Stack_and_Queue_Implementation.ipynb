{
  "nbformat": 4,
  "nbformat_minor": 0,
  "metadata": {
    "colab": {
      "provenance": [],
      "authorship_tag": "ABX9TyN1jeABQtGGinpPSnCRs0Xu",
      "include_colab_link": true
    },
    "kernelspec": {
      "name": "python3",
      "display_name": "Python 3"
    },
    "language_info": {
      "name": "python"
    }
  },
  "cells": [
    {
      "cell_type": "markdown",
      "metadata": {
        "id": "view-in-github",
        "colab_type": "text"
      },
      "source": [
        "<a href=\"https://colab.research.google.com/github/daniyalaamir110/learning-DSA/blob/main/Stack_and_Queue_Implementation.ipynb\" target=\"_parent\"><img src=\"https://colab.research.google.com/assets/colab-badge.svg\" alt=\"Open In Colab\"/></a>"
      ]
    },
    {
      "cell_type": "markdown",
      "source": [
        "## Stack Implementation"
      ],
      "metadata": {
        "id": "ibcRjioWzCky"
      }
    },
    {
      "cell_type": "code",
      "source": [
        "from array import array\n",
        "\n",
        "\n",
        "class StackOverflow(Exception):\n",
        "  pass\n",
        "\n",
        "\n",
        "class StackEmpty(Exception):\n",
        "  pass\n",
        "\n",
        "\n",
        "class Stack:\n",
        "  def __init__(self, size: int, dtype: str = 'i') -> None:\n",
        "    self._top = -1\n",
        "    self._size = size\n",
        "    self._data = array(dtype, [0] * size)\n",
        "\n",
        "  def __len__(self):\n",
        "    return self._top + 1\n",
        "\n",
        "  def __str__(self):\n",
        "    items = map(str, self.items())\n",
        "    return f\"[{', '.join(items)}] T\"\n",
        "\n",
        "  def items(self) -> list[any]:\n",
        "    return [self._data[i] for i in range(self._top + 1)]\n",
        "\n",
        "  def top(self) -> int:\n",
        "    return self._top\n",
        "\n",
        "  def empty(self) -> bool:\n",
        "    return self._top == -1\n",
        "\n",
        "  def full(self) -> bool:\n",
        "    return self._top == self._size - 1\n",
        "\n",
        "  def peek(self) -> any:\n",
        "    if self.empty():\n",
        "      raise StackEmpty\n",
        "    return self._data[self._top]\n",
        "\n",
        "  def push(self, x: any) -> None:\n",
        "    if self.full():\n",
        "      raise StackOverflow\n",
        "    self._top += 1\n",
        "    self._data[self._top] = x\n",
        "\n",
        "  def pop(self) -> any:\n",
        "    if self.empty():\n",
        "      raise StackEmpty\n",
        "    x = self._data[self._top]\n",
        "    self._top -= 1\n",
        "    return x\n",
        "\n",
        "  def size(self) -> int:\n",
        "    return self._size\n"
      ],
      "metadata": {
        "id": "bUJwr4mDzC5d"
      },
      "execution_count": null,
      "outputs": []
    },
    {
      "cell_type": "code",
      "source": [
        "s = Stack(5, dtype='i')\n",
        "\n",
        "s.push(1)\n",
        "s.push(2)\n",
        "s.push(3)\n",
        "s.push(4)\n",
        "s.push(5)\n",
        "print(s)\n",
        "\n",
        "s.pop()\n",
        "print(s)"
      ],
      "metadata": {
        "colab": {
          "base_uri": "https://localhost:8080/"
        },
        "id": "v8U5mDtQH-ao",
        "outputId": "189a23cd-f4e4-4a80-a986-0cb6398f188d"
      },
      "execution_count": null,
      "outputs": [
        {
          "output_type": "stream",
          "name": "stdout",
          "text": [
            "[1, 2, 3, 4, 5] T\n",
            "[1, 2, 3, 4] T\n"
          ]
        }
      ]
    },
    {
      "cell_type": "markdown",
      "source": [
        "# Queue Implementation"
      ],
      "metadata": {
        "id": "ph8yUSuf7pbf"
      }
    },
    {
      "cell_type": "code",
      "source": [
        "from array import array\n",
        "\n",
        "\n",
        "class QueueOverflow(Exception):\n",
        "  pass\n",
        "\n",
        "\n",
        "class QueueEmpty(Exception):\n",
        "  pass\n",
        "\n",
        "\n",
        "class Queue:\n",
        "  def __init__(self, size, dtype='i'):\n",
        "    self._front = -1\n",
        "    self._rear = -1\n",
        "    self._size = size\n",
        "    self._data = array(dtype, [0] * size)\n",
        "\n",
        "  def __len__(self):\n",
        "    if self.empty():\n",
        "      return 0\n",
        "    return (self._rear - self._front) % self._size + 1\n",
        "\n",
        "  def __str__(self):\n",
        "    items = map(str, self.items())\n",
        "    return f\"R [{', '.join(items)}] F\"\n",
        "\n",
        "  def items(self) -> list[any]:\n",
        "    getitem = lambda i: self._data[(self._front + i) % self._size]\n",
        "    items = [getitem(i) for i in range(len(self) - 1 , -1, -1)]\n",
        "    return items\n",
        "\n",
        "  def size(self) -> int:\n",
        "    return self._size\n",
        "\n",
        "  def empty(self) -> bool:\n",
        "    return self._front == -1\n",
        "\n",
        "  def full(self) -> bool:\n",
        "    return (self._rear + 1) % self._size == self._front\n",
        "\n",
        "  def peek(self) -> any:\n",
        "    if self.empty():\n",
        "      raise QueueEmpty\n",
        "    return self._data[self._front]\n",
        "\n",
        "  def enqueue(self, x: any) -> None:\n",
        "    if self.full():\n",
        "      raise QueueOverflow\n",
        "    self._rear = (self._rear + 1) % self._size\n",
        "    self._data[self._rear] = x\n",
        "    if self._front == -1:\n",
        "      self._front = self._rear\n",
        "\n",
        "  def dequeue(self) -> any:\n",
        "    if self.empty():\n",
        "      raise QueueEmpty\n",
        "    x = self._data[self._front]\n",
        "    self._front = (self._front + 1) % self._size\n",
        "\n",
        "    if self._front > self._rear:\n",
        "      self._front = self._rear = -1\n",
        "\n",
        "    return x\n"
      ],
      "metadata": {
        "id": "9y33Ii4_7ot8"
      },
      "execution_count": null,
      "outputs": []
    },
    {
      "cell_type": "code",
      "source": [
        "q = Queue(5, dtype='i')\n",
        "\n",
        "q.enqueue(1)\n",
        "q.enqueue(2)\n",
        "q.enqueue(3)\n",
        "q.enqueue(4)\n",
        "q.enqueue(5)\n",
        "print(q)\n",
        "\n",
        "q.dequeue()\n",
        "q.dequeue()\n",
        "q.dequeue()\n",
        "q.dequeue()\n",
        "print(q)\n",
        "\n",
        "q.enqueue(6)\n",
        "q.enqueue(7)\n",
        "print(q)\n",
        "\n",
        "q.dequeue()\n",
        "q.dequeue()\n",
        "q.dequeue()\n",
        "print(q)\n",
        "\n",
        "q.enqueue(1)\n",
        "q.enqueue(2)\n",
        "print(q)\n",
        "\n",
        "q.dequeue()\n",
        "print(q)\n"
      ],
      "metadata": {
        "colab": {
          "base_uri": "https://localhost:8080/"
        },
        "id": "OFj-VQ12GHNb",
        "outputId": "f9fc4648-06a5-47bb-e6d2-1249bdb3a64a"
      },
      "execution_count": null,
      "outputs": [
        {
          "output_type": "stream",
          "name": "stdout",
          "text": [
            "R [5, 4, 3, 2, 1] F\n",
            "R [5] F\n",
            "R [7, 6, 5] F\n",
            "R [] F\n",
            "R [2, 1] F\n",
            "R [2] F\n"
          ]
        }
      ]
    },
    {
      "cell_type": "markdown",
      "source": [
        "# Queue using Stack"
      ],
      "metadata": {
        "id": "f8h6UZucOZWX"
      }
    },
    {
      "cell_type": "code",
      "source": [
        "class QueueUsingStack:\n",
        "  def __init__(self, size, dtype='i'):\n",
        "    self._size = size\n",
        "    self._stack = Stack(size, dtype=dtype)\n",
        "    self._aux_stack = Stack(size, dtype=dtype)\n",
        "\n",
        "  def __len__(self):\n",
        "    return len(self._stack)\n",
        "\n",
        "  def __str__(self):\n",
        "    return str(self._stack)\n",
        "\n",
        "  def size(self):\n",
        "    return self._size\n",
        "\n",
        "  def empty(self):\n",
        "    return self._stack.empty()\n",
        "\n",
        "  def full(self):\n",
        "    return self._stack.full()\n",
        "\n",
        "  def peek(self):\n",
        "    while not self._stack.empty():\n",
        "      self._aux_stack.push(self._stack.pop())\n",
        "\n",
        "    x = self._aux_stack.peek()\n",
        "\n",
        "    while not self._aux_stack.empty():\n",
        "      self._stack.push(self._aux_stack.pop())\n",
        "\n",
        "    return x\n",
        "\n",
        "  def enqueue(self, x: any) -> None:\n",
        "    if self._stack.full():\n",
        "      raise QueueOverflow\n",
        "    self._stack.push(x)\n",
        "\n",
        "  def dequeue(self) -> any:\n",
        "    if self._stack.empty():\n",
        "      raise QueueEmpty\n",
        "\n",
        "    while not self._stack.empty():\n",
        "      self._aux_stack.push(self._stack.pop())\n",
        "\n",
        "    x = self._aux_stack.pop()\n",
        "\n",
        "    while not self._aux_stack.empty():\n",
        "      self._stack.push(self._aux_stack.pop())\n",
        "\n",
        "    return x\n"
      ],
      "metadata": {
        "id": "jbsPC2L2MUrK"
      },
      "execution_count": null,
      "outputs": []
    },
    {
      "cell_type": "code",
      "source": [
        "qs = QueueUsingStack(5, dtype='i')\n",
        "\n",
        "qs.enqueue(1)\n",
        "qs.enqueue(2)\n",
        "qs.enqueue(3)\n",
        "qs.enqueue(4)\n",
        "qs.enqueue(5)\n",
        "print(qs)\n",
        "\n",
        "qs.dequeue()\n",
        "qs.dequeue()\n",
        "qs.dequeue()\n",
        "qs.dequeue()\n",
        "print(qs)\n",
        "\n",
        "qs.enqueue(6)\n",
        "qs.enqueue(7)\n",
        "print(qs)\n",
        "\n",
        "qs.dequeue()\n",
        "qs.dequeue()\n",
        "qs.dequeue()\n",
        "print(qs)\n",
        "\n",
        "qs.enqueue(1)\n",
        "qs.enqueue(2)\n",
        "print(qs)\n",
        "\n",
        "qs.dequeue()\n",
        "print(qs)\n"
      ],
      "metadata": {
        "colab": {
          "base_uri": "https://localhost:8080/"
        },
        "id": "k952Ksg5OG1p",
        "outputId": "7516e261-c1c9-4f2f-bdec-4c9015fb6311"
      },
      "execution_count": null,
      "outputs": [
        {
          "output_type": "stream",
          "name": "stdout",
          "text": [
            "[1, 2, 3, 4, 5] T\n",
            "[5] T\n",
            "[5, 6, 7] T\n",
            "[] T\n",
            "[1, 2] T\n",
            "[2] T\n"
          ]
        }
      ]
    },
    {
      "cell_type": "code",
      "source": [
        "class QueueUsingStackV2:\n",
        "  def __init__(self, size, dtype='i'):\n",
        "    self._size = size\n",
        "    self._stack = Stack(size, dtype=dtype)\n",
        "    self._aux_stack = Stack(size, dtype=dtype)\n",
        "\n",
        "  def __len__(self):\n",
        "    return len(self._stack)\n",
        "\n",
        "  def __str__(self):\n",
        "    items = map(str, self._aux_stack.items() + self._stack.items()[::-1])\n",
        "    return f\"R [{', '.join(items)}] F\"\n",
        "\n",
        "  def size(self):\n",
        "    return self._size\n",
        "\n",
        "  def empty(self):\n",
        "    return self._stack.empty() and self._aux_stack.empty()\n",
        "\n",
        "  def full(self):\n",
        "    return len(self._stack) + len(self._aux_stack) == self._size\n",
        "\n",
        "  def peek(self):\n",
        "    if self.empty():\n",
        "      raise QueueEmpty\n",
        "\n",
        "    if self._aux_stack.empty():\n",
        "      while not self._stack.empty():\n",
        "        self._aux_stack.push(self._stack.pop())\n",
        "\n",
        "    return self._aux_stack.peek()\n",
        "\n",
        "  def enqueue(self, x: any) -> None:\n",
        "    if self.full():\n",
        "      raise QueueOverflow\n",
        "    self._stack.push(x)\n",
        "\n",
        "  def dequeue(self) -> any:\n",
        "    if self.empty():\n",
        "      raise QueueEmpty\n",
        "\n",
        "    if self._aux_stack.empty():\n",
        "      while not self._stack.empty():\n",
        "        self._aux_stack.push(self._stack.pop())\n",
        "\n",
        "    return self._aux_stack.pop()\n"
      ],
      "metadata": {
        "id": "Mam4X6BMcVB0"
      },
      "execution_count": null,
      "outputs": []
    },
    {
      "cell_type": "code",
      "source": [
        "qs2 = QueueUsingStackV2(5, dtype='i')\n",
        "\n",
        "qs2.enqueue(1)\n",
        "qs2.enqueue(2)\n",
        "qs2.enqueue(3)\n",
        "qs2.enqueue(4)\n",
        "qs2.enqueue(5)\n",
        "print(qs2)\n",
        "\n",
        "qs2.dequeue()\n",
        "qs2.dequeue()\n",
        "qs2.dequeue()\n",
        "qs2.dequeue()\n",
        "print(qs2)\n",
        "\n",
        "qs2.enqueue(6)\n",
        "qs2.enqueue(7)\n",
        "print(qs2)\n",
        "\n",
        "qs2.dequeue()\n",
        "qs2.dequeue()\n",
        "qs2.dequeue()\n",
        "print(qs2)\n",
        "\n",
        "qs2.enqueue(1)\n",
        "qs2.enqueue(2)\n",
        "print(qs2)\n",
        "\n",
        "qs2.dequeue()\n",
        "print(qs2)\n"
      ],
      "metadata": {
        "colab": {
          "base_uri": "https://localhost:8080/"
        },
        "id": "H2ro_mOpfZqs",
        "outputId": "43b8ab95-a4dd-409e-9f9b-58a504ebe2bb"
      },
      "execution_count": null,
      "outputs": [
        {
          "output_type": "stream",
          "name": "stdout",
          "text": [
            "R [5, 4, 3, 2, 1] F\n",
            "R [5] F\n",
            "R [5, 7, 6] F\n",
            "R [] F\n",
            "R [2, 1] F\n",
            "R [2] F\n"
          ]
        }
      ]
    },
    {
      "cell_type": "markdown",
      "source": [
        "# Stack Using Queue"
      ],
      "metadata": {
        "id": "6OdQxqg6OcQo"
      }
    },
    {
      "cell_type": "code",
      "source": [
        "class StackUsingQueue:\n",
        "  def __init__(self, size, dtype='i'):\n",
        "    self._queue = Queue(size, dtype=dtype)\n",
        "    self._aux_queue = Queue(size, dtype=dtype)\n",
        "\n",
        "  def __len__(self):\n",
        "    return len(self._queue)\n",
        "\n",
        "  def __str__(self):\n",
        "    return str(self._queue)\n",
        "\n",
        "  def size(self):\n",
        "    return self._queue.size()\n",
        "\n",
        "  def empty(self):\n",
        "    return self._queue.empty()\n",
        "\n",
        "  def full(self):\n",
        "    return self._queue.full()\n",
        "\n",
        "  def peek(self):\n",
        "    return self._queue.peek()\n",
        "\n",
        "  def push(self, x: any) -> None:\n",
        "    while not self._queue.empty():\n",
        "      self._aux_queue.enqueue(self._queue.dequeue())\n",
        "\n",
        "    self._queue.enqueue(x)\n",
        "\n",
        "    while not self._aux_queue.empty():\n",
        "      self._queue.enqueue(self._aux_queue.dequeue())\n",
        "\n",
        "  def pop(self) -> any:\n",
        "    return self._queue.dequeue()\n"
      ],
      "metadata": {
        "id": "K-jk_n0TOeqm"
      },
      "execution_count": null,
      "outputs": []
    },
    {
      "cell_type": "code",
      "source": [
        "sq = StackUsingQueue(5, dtype='i')\n",
        "\n",
        "sq.push(1)\n",
        "sq.push(2)\n",
        "sq.push(3)\n",
        "sq.push(4)\n",
        "sq.push(5)\n",
        "print(sq)\n",
        "\n",
        "sq.pop()\n",
        "print(sq)"
      ],
      "metadata": {
        "colab": {
          "base_uri": "https://localhost:8080/"
        },
        "id": "JHeVgWueQlUI",
        "outputId": "c4647224-f76b-43af-f5aa-f4f54109c44d"
      },
      "execution_count": null,
      "outputs": [
        {
          "output_type": "stream",
          "name": "stdout",
          "text": [
            "R [1, 2, 3, 4, 5] F\n",
            "R [1, 2, 3, 4] F\n"
          ]
        }
      ]
    }
  ]
}