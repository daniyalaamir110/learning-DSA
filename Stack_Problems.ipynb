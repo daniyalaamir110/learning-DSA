{
  "cells": [
    {
      "cell_type": "markdown",
      "metadata": {
        "id": "view-in-github",
        "colab_type": "text"
      },
      "source": [
        "<a href=\"https://colab.research.google.com/github/daniyalaamir110/learning-DSA/blob/main/Stack_Problems.ipynb\" target=\"_parent\"><img src=\"https://colab.research.google.com/assets/colab-badge.svg\" alt=\"Open In Colab\"/></a>"
      ]
    },
    {
      "cell_type": "markdown",
      "metadata": {
        "id": "M51svc_kpK56"
      },
      "source": [
        "# Stack Problems"
      ]
    },
    {
      "cell_type": "markdown",
      "source": [
        "## Utils"
      ],
      "metadata": {
        "id": "4SbRUSu78V6U"
      }
    },
    {
      "cell_type": "code",
      "execution_count": 1,
      "metadata": {
        "id": "CRCwJItSmdiM"
      },
      "outputs": [],
      "source": [
        "from collections import deque\n",
        "\n",
        "\n",
        "def join_sequence_to_string(sequence) -> str:\n",
        "  return f\"{' '.join(map(str, sequence))}\"\n",
        "\n",
        "def reverse_expression(s: str) -> str:\n",
        "  reversed_expression = ''\n",
        "  for char in s:\n",
        "    if char == '(':\n",
        "      reversed_expression = ')' + reversed_expression\n",
        "    elif char == ')':\n",
        "      reversed_expression = '(' + reversed_expression\n",
        "    else:\n",
        "      reversed_expression = char + reversed_expression\n",
        "  return reversed_expression\n",
        "\n",
        "is_operand = lambda char: (\n",
        "  'A' <= char <= 'Z' or\n",
        "  'a' <= char <= 'z' or\n",
        "  '0' <= char <= '9'\n",
        ")\n",
        "\n",
        "def pse_indices(arr):\n",
        "  n = len(arr)\n",
        "\n",
        "  pse = [-1] * n\n",
        "  stack = deque()\n",
        "\n",
        "  for i in range(n):\n",
        "    while stack and arr[stack[-1]] >= arr[i]:\n",
        "      stack.pop()\n",
        "    if stack:\n",
        "      pse[i] = stack[-1]\n",
        "    stack.append(i)\n",
        "\n",
        "  return pse\n",
        "\n",
        "def nse_indices(arr):\n",
        "  n = len(arr)\n",
        "\n",
        "  nse = [n] * n\n",
        "  stack = deque()\n",
        "\n",
        "  for i in range(n - 1, -1, -1):\n",
        "    while stack and arr[stack[-1]] >= arr[i]:\n",
        "      stack.pop()\n",
        "    if stack:\n",
        "      nse[i] = stack[-1]\n",
        "    stack.append(i)\n",
        "\n",
        "  return nse\n",
        "\n",
        "def pge_indices(arr):\n",
        "  n = len(arr)\n",
        "\n",
        "  pge = [-1] * n\n",
        "  stack = deque()\n",
        "\n",
        "  for i in range(n):\n",
        "    while stack and arr[stack[-1]] <= arr[i]:\n",
        "      stack.pop()\n",
        "    if stack:\n",
        "      pge[i] = stack[-1]\n",
        "    stack.append(i)\n",
        "\n",
        "  return pge\n",
        "\n",
        "def nge_indices(arr):\n",
        "  n = len(arr)\n",
        "\n",
        "  nge = [n] * n\n",
        "  stack = deque()\n",
        "\n",
        "  for i in range(n - 1, -1, -1):\n",
        "    while stack and arr[stack[-1]] <= arr[i]:\n",
        "      stack.pop()\n",
        "    if stack:\n",
        "      nge[i] = stack[-1]\n",
        "    stack.append(i)\n",
        "\n",
        "  return nge\n",
        "\n",
        "def prefix_max(arr: list[int]) -> list[int]:\n",
        "  res = [arr[0]]\n",
        "  for i in range(1, len(arr)):\n",
        "    res.append(max(arr[i], res[i - 1]))\n",
        "  return res\n",
        "\n",
        "\n",
        "def suffix_max(arr: list[int]) -> list[int]:\n",
        "  res = [arr[-1]]\n",
        "  for i in range(len(arr) - 2, -1, -1):\n",
        "    res.insert(0, max(arr[i], res[0]))\n",
        "  return res\n",
        "\n",
        "def draw_bars(heights: list[int]) -> None:\n",
        "  max_height = max(heights)\n",
        "  n = len(heights)\n",
        "\n",
        "  for i in range(max_height, 0, -1):\n",
        "    print(f'{i:4}', end='')\n",
        "    for h in heights:\n",
        "      if i > 0:\n",
        "        print('\\x1b[0;30;47m    \\x1b[0m' if h >= i else (' ' if i > 1 else '▁')*4, end='')\n",
        "    print()\n",
        "\n",
        "  print(' '*4, end='')\n",
        "  for i in range(n):\n",
        "    print(f'{i:^4}', end='')\n",
        "  print()\n",
        "\n",
        "def draw_grid(grid: list[list[int]]) -> None:\n",
        "  for row in grid:\n",
        "    print(\" \".join(map(str, row)))"
      ]
    },
    {
      "cell_type": "markdown",
      "metadata": {
        "id": "v4ThtID8pOUt"
      },
      "source": [
        "## 1. Balanced Paranthesis"
      ]
    },
    {
      "cell_type": "code",
      "execution_count": 2,
      "metadata": {
        "id": "IXiQJCSBNRZB"
      },
      "outputs": [],
      "source": [
        "BALANCING_BRACKETS_TEST_CASES = ['()', '()[]{}', '(]', '([)]', '{[]}']"
      ]
    },
    {
      "cell_type": "markdown",
      "metadata": {
        "id": "Fl5b0SCkLXO9"
      },
      "source": [
        "### 1.1. Check Balanced Paranthesis"
      ]
    },
    {
      "cell_type": "code",
      "execution_count": 3,
      "metadata": {
        "colab": {
          "base_uri": "https://localhost:8080/",
          "height": 889
        },
        "id": "h6X2juMIo94W",
        "outputId": "ce4f26b6-006c-41c4-e8c0-fde531016b4c"
      },
      "outputs": [
        {
          "output_type": "display_data",
          "data": {
            "text/plain": [
              "\u001b[3m         Check balanced paranthesis - ()          \u001b[0m\n",
              "┏━━━━━━━━━━━━━━━━━━┳━━━━━━━━━━━━━━━━━━┳━━━━━━━━━━┓\n",
              "┃\u001b[1m \u001b[0m\u001b[1m   character    \u001b[0m\u001b[1m \u001b[0m┃\u001b[1m \u001b[0m\u001b[1m   operation    \u001b[0m\u001b[1m \u001b[0m┃\u001b[1m \u001b[0m\u001b[1mstack   \u001b[0m\u001b[1m \u001b[0m┃\n",
              "┡━━━━━━━━━━━━━━━━━━╇━━━━━━━━━━━━━━━━━━╇━━━━━━━━━━┩\n",
              "│        (         │       push       │ (        │\n",
              "│        )         │       pop        │          │\n",
              "└──────────────────┴──────────────────┴──────────┘\n"
            ],
            "text/html": [
              "<pre style=\"white-space:pre;overflow-x:auto;line-height:normal;font-family:Menlo,'DejaVu Sans Mono',consolas,'Courier New',monospace\"><span style=\"font-style: italic\">         Check balanced paranthesis - ()          </span>\n",
              "┏━━━━━━━━━━━━━━━━━━┳━━━━━━━━━━━━━━━━━━┳━━━━━━━━━━┓\n",
              "┃<span style=\"font-weight: bold\">    character     </span>┃<span style=\"font-weight: bold\">    operation     </span>┃<span style=\"font-weight: bold\"> stack    </span>┃\n",
              "┡━━━━━━━━━━━━━━━━━━╇━━━━━━━━━━━━━━━━━━╇━━━━━━━━━━┩\n",
              "│        (         │       push       │ (        │\n",
              "│        )         │       pop        │          │\n",
              "└──────────────────┴──────────────────┴──────────┘\n",
              "</pre>\n"
            ]
          },
          "metadata": {}
        },
        {
          "output_type": "stream",
          "name": "stdout",
          "text": [
            "True \n",
            "\n"
          ]
        },
        {
          "output_type": "display_data",
          "data": {
            "text/plain": [
              "\u001b[3m       Check balanced paranthesis - ()[]{}        \u001b[0m\n",
              "┏━━━━━━━━━━━━━━━━━━┳━━━━━━━━━━━━━━━━━━┳━━━━━━━━━━┓\n",
              "┃\u001b[1m \u001b[0m\u001b[1m   character    \u001b[0m\u001b[1m \u001b[0m┃\u001b[1m \u001b[0m\u001b[1m   operation    \u001b[0m\u001b[1m \u001b[0m┃\u001b[1m \u001b[0m\u001b[1mstack   \u001b[0m\u001b[1m \u001b[0m┃\n",
              "┡━━━━━━━━━━━━━━━━━━╇━━━━━━━━━━━━━━━━━━╇━━━━━━━━━━┩\n",
              "│        (         │       push       │ (        │\n",
              "│        )         │       pop        │          │\n",
              "│        [         │       push       │ [        │\n",
              "│        ]         │       pop        │          │\n",
              "│        {         │       push       │ {        │\n",
              "│        }         │       pop        │          │\n",
              "└──────────────────┴──────────────────┴──────────┘\n"
            ],
            "text/html": [
              "<pre style=\"white-space:pre;overflow-x:auto;line-height:normal;font-family:Menlo,'DejaVu Sans Mono',consolas,'Courier New',monospace\"><span style=\"font-style: italic\">       Check balanced paranthesis - ()[]{}        </span>\n",
              "┏━━━━━━━━━━━━━━━━━━┳━━━━━━━━━━━━━━━━━━┳━━━━━━━━━━┓\n",
              "┃<span style=\"font-weight: bold\">    character     </span>┃<span style=\"font-weight: bold\">    operation     </span>┃<span style=\"font-weight: bold\"> stack    </span>┃\n",
              "┡━━━━━━━━━━━━━━━━━━╇━━━━━━━━━━━━━━━━━━╇━━━━━━━━━━┩\n",
              "│        (         │       push       │ (        │\n",
              "│        )         │       pop        │          │\n",
              "│        [         │       push       │ [        │\n",
              "│        ]         │       pop        │          │\n",
              "│        {         │       push       │ {        │\n",
              "│        }         │       pop        │          │\n",
              "└──────────────────┴──────────────────┴──────────┘\n",
              "</pre>\n"
            ]
          },
          "metadata": {}
        },
        {
          "output_type": "stream",
          "name": "stdout",
          "text": [
            "True \n",
            "\n"
          ]
        },
        {
          "output_type": "display_data",
          "data": {
            "text/plain": [
              "\u001b[3m         Check balanced paranthesis - (]          \u001b[0m\n",
              "┏━━━━━━━━━━━━━━━━━━┳━━━━━━━━━━━━━━━━━━┳━━━━━━━━━━┓\n",
              "┃\u001b[1m \u001b[0m\u001b[1m   character    \u001b[0m\u001b[1m \u001b[0m┃\u001b[1m \u001b[0m\u001b[1m   operation    \u001b[0m\u001b[1m \u001b[0m┃\u001b[1m \u001b[0m\u001b[1mstack   \u001b[0m\u001b[1m \u001b[0m┃\n",
              "┡━━━━━━━━━━━━━━━━━━╇━━━━━━━━━━━━━━━━━━╇━━━━━━━━━━┩\n",
              "│        (         │       push       │ (        │\n",
              "│        ]         │     invalid      │ (        │\n",
              "└──────────────────┴──────────────────┴──────────┘\n"
            ],
            "text/html": [
              "<pre style=\"white-space:pre;overflow-x:auto;line-height:normal;font-family:Menlo,'DejaVu Sans Mono',consolas,'Courier New',monospace\"><span style=\"font-style: italic\">         Check balanced paranthesis - (]          </span>\n",
              "┏━━━━━━━━━━━━━━━━━━┳━━━━━━━━━━━━━━━━━━┳━━━━━━━━━━┓\n",
              "┃<span style=\"font-weight: bold\">    character     </span>┃<span style=\"font-weight: bold\">    operation     </span>┃<span style=\"font-weight: bold\"> stack    </span>┃\n",
              "┡━━━━━━━━━━━━━━━━━━╇━━━━━━━━━━━━━━━━━━╇━━━━━━━━━━┩\n",
              "│        (         │       push       │ (        │\n",
              "│        ]         │     invalid      │ (        │\n",
              "└──────────────────┴──────────────────┴──────────┘\n",
              "</pre>\n"
            ]
          },
          "metadata": {}
        },
        {
          "output_type": "stream",
          "name": "stdout",
          "text": [
            "False \n",
            "\n"
          ]
        },
        {
          "output_type": "display_data",
          "data": {
            "text/plain": [
              "\u001b[3m        Check balanced paranthesis - ([)]         \u001b[0m\n",
              "┏━━━━━━━━━━━━━━━━━━┳━━━━━━━━━━━━━━━━━━┳━━━━━━━━━━┓\n",
              "┃\u001b[1m \u001b[0m\u001b[1m   character    \u001b[0m\u001b[1m \u001b[0m┃\u001b[1m \u001b[0m\u001b[1m   operation    \u001b[0m\u001b[1m \u001b[0m┃\u001b[1m \u001b[0m\u001b[1mstack   \u001b[0m\u001b[1m \u001b[0m┃\n",
              "┡━━━━━━━━━━━━━━━━━━╇━━━━━━━━━━━━━━━━━━╇━━━━━━━━━━┩\n",
              "│        (         │       push       │ (        │\n",
              "│        [         │       push       │ ( [      │\n",
              "│        )         │     invalid      │ ( [      │\n",
              "└──────────────────┴──────────────────┴──────────┘\n"
            ],
            "text/html": [
              "<pre style=\"white-space:pre;overflow-x:auto;line-height:normal;font-family:Menlo,'DejaVu Sans Mono',consolas,'Courier New',monospace\"><span style=\"font-style: italic\">        Check balanced paranthesis - ([)]         </span>\n",
              "┏━━━━━━━━━━━━━━━━━━┳━━━━━━━━━━━━━━━━━━┳━━━━━━━━━━┓\n",
              "┃<span style=\"font-weight: bold\">    character     </span>┃<span style=\"font-weight: bold\">    operation     </span>┃<span style=\"font-weight: bold\"> stack    </span>┃\n",
              "┡━━━━━━━━━━━━━━━━━━╇━━━━━━━━━━━━━━━━━━╇━━━━━━━━━━┩\n",
              "│        (         │       push       │ (        │\n",
              "│        [         │       push       │ ( [      │\n",
              "│        )         │     invalid      │ ( [      │\n",
              "└──────────────────┴──────────────────┴──────────┘\n",
              "</pre>\n"
            ]
          },
          "metadata": {}
        },
        {
          "output_type": "stream",
          "name": "stdout",
          "text": [
            "False \n",
            "\n"
          ]
        },
        {
          "output_type": "display_data",
          "data": {
            "text/plain": [
              "\u001b[3m        Check balanced paranthesis - {[]}         \u001b[0m\n",
              "┏━━━━━━━━━━━━━━━━━━┳━━━━━━━━━━━━━━━━━━┳━━━━━━━━━━┓\n",
              "┃\u001b[1m \u001b[0m\u001b[1m   character    \u001b[0m\u001b[1m \u001b[0m┃\u001b[1m \u001b[0m\u001b[1m   operation    \u001b[0m\u001b[1m \u001b[0m┃\u001b[1m \u001b[0m\u001b[1mstack   \u001b[0m\u001b[1m \u001b[0m┃\n",
              "┡━━━━━━━━━━━━━━━━━━╇━━━━━━━━━━━━━━━━━━╇━━━━━━━━━━┩\n",
              "│        {         │       push       │ {        │\n",
              "│        [         │       push       │ { [      │\n",
              "│        ]         │       pop        │ {        │\n",
              "│        }         │       pop        │          │\n",
              "└──────────────────┴──────────────────┴──────────┘\n"
            ],
            "text/html": [
              "<pre style=\"white-space:pre;overflow-x:auto;line-height:normal;font-family:Menlo,'DejaVu Sans Mono',consolas,'Courier New',monospace\"><span style=\"font-style: italic\">        Check balanced paranthesis - {[]}         </span>\n",
              "┏━━━━━━━━━━━━━━━━━━┳━━━━━━━━━━━━━━━━━━┳━━━━━━━━━━┓\n",
              "┃<span style=\"font-weight: bold\">    character     </span>┃<span style=\"font-weight: bold\">    operation     </span>┃<span style=\"font-weight: bold\"> stack    </span>┃\n",
              "┡━━━━━━━━━━━━━━━━━━╇━━━━━━━━━━━━━━━━━━╇━━━━━━━━━━┩\n",
              "│        {         │       push       │ {        │\n",
              "│        [         │       push       │ { [      │\n",
              "│        ]         │       pop        │ {        │\n",
              "│        }         │       pop        │          │\n",
              "└──────────────────┴──────────────────┴──────────┘\n",
              "</pre>\n"
            ]
          },
          "metadata": {}
        },
        {
          "output_type": "stream",
          "name": "stdout",
          "text": [
            "True \n",
            "\n"
          ]
        }
      ],
      "source": [
        "from collections import deque\n",
        "from rich.console import Console\n",
        "from rich.table import Table\n",
        "\n",
        "console = Console()\n",
        "\n",
        "\n",
        "def is_balanced_paranthesis(s: str) -> bool:\n",
        "  stack = deque()\n",
        "\n",
        "  mapping = {'}': '{', ']': '[', ')': '('}\n",
        "\n",
        "  table = Table(title=f\"Check balanced paranthesis - {s}\", width=50)\n",
        "  table.add_column('character', justify='center')\n",
        "  table.add_column('operation', justify='center')\n",
        "  table.add_column('stack', justify='left')\n",
        "\n",
        "  for char in s:\n",
        "    if char in mapping:\n",
        "      if mapping[char] == stack[-1]:\n",
        "        stack.pop()\n",
        "        table.add_row(char, 'pop', join_sequence_to_string(stack))\n",
        "      else:\n",
        "        table.add_row(char, 'invalid', join_sequence_to_string(stack))\n",
        "        console.print(table)\n",
        "        return False\n",
        "    else:\n",
        "      stack.append(char)\n",
        "      table.add_row(char, 'push', join_sequence_to_string(stack))\n",
        "\n",
        "  console.print(table)\n",
        "\n",
        "  return len(stack) == 0\n",
        "\n",
        "for test_case in BALANCING_BRACKETS_TEST_CASES:\n",
        "  print(is_balanced_paranthesis(test_case), \"\\n\")"
      ]
    },
    {
      "cell_type": "markdown",
      "metadata": {
        "id": "llhaUP9QGWtA"
      },
      "source": [
        "### 1.2. Number of balancing brackets"
      ]
    },
    {
      "cell_type": "code",
      "execution_count": 4,
      "metadata": {
        "colab": {
          "base_uri": "https://localhost:8080/",
          "height": 898
        },
        "id": "rj6poUDkGV0Y",
        "outputId": "5b6f24df-f773-4cb3-934f-e83ca0fc2855"
      },
      "outputs": [
        {
          "output_type": "display_data",
          "data": {
            "text/plain": [
              "\u001b[3m             Balance paranthesis - ()             \u001b[0m\n",
              "┏━━━━━━━━━━━━━━┳━━━━━━━━━━━━━━┳━━━━━━━━━┳━━━━━━━━┓\n",
              "┃\u001b[1m \u001b[0m\u001b[1m character  \u001b[0m\u001b[1m \u001b[0m┃\u001b[1m \u001b[0m\u001b[1m operation  \u001b[0m\u001b[1m \u001b[0m┃\u001b[1m \u001b[0m\u001b[1mstack  \u001b[0m\u001b[1m \u001b[0m┃\u001b[1m \u001b[0m\u001b[1m count\u001b[0m\u001b[1m \u001b[0m┃\n",
              "┡━━━━━━━━━━━━━━╇━━━━━━━━━━━━━━╇━━━━━━━━━╇━━━━━━━━┩\n",
              "│      (       │     push     │ (       │      0 │\n",
              "│      )       │     pop      │         │      0 │\n",
              "│              │              │         │      0 │\n",
              "└──────────────┴──────────────┴─────────┴────────┘\n"
            ],
            "text/html": [
              "<pre style=\"white-space:pre;overflow-x:auto;line-height:normal;font-family:Menlo,'DejaVu Sans Mono',consolas,'Courier New',monospace\"><span style=\"font-style: italic\">             Balance paranthesis - ()             </span>\n",
              "┏━━━━━━━━━━━━━━┳━━━━━━━━━━━━━━┳━━━━━━━━━┳━━━━━━━━┓\n",
              "┃<span style=\"font-weight: bold\">  character   </span>┃<span style=\"font-weight: bold\">  operation   </span>┃<span style=\"font-weight: bold\"> stack   </span>┃<span style=\"font-weight: bold\">  count </span>┃\n",
              "┡━━━━━━━━━━━━━━╇━━━━━━━━━━━━━━╇━━━━━━━━━╇━━━━━━━━┩\n",
              "│      (       │     push     │ (       │      0 │\n",
              "│      )       │     pop      │         │      0 │\n",
              "│              │              │         │      0 │\n",
              "└──────────────┴──────────────┴─────────┴────────┘\n",
              "</pre>\n"
            ]
          },
          "metadata": {}
        },
        {
          "output_type": "stream",
          "name": "stdout",
          "text": [
            "0\n"
          ]
        },
        {
          "output_type": "display_data",
          "data": {
            "text/plain": [
              "\u001b[3m           Balance paranthesis - ()[]{}           \u001b[0m\n",
              "┏━━━━━━━━━━━━━━┳━━━━━━━━━━━━━━┳━━━━━━━━━┳━━━━━━━━┓\n",
              "┃\u001b[1m \u001b[0m\u001b[1m character  \u001b[0m\u001b[1m \u001b[0m┃\u001b[1m \u001b[0m\u001b[1m operation  \u001b[0m\u001b[1m \u001b[0m┃\u001b[1m \u001b[0m\u001b[1mstack  \u001b[0m\u001b[1m \u001b[0m┃\u001b[1m \u001b[0m\u001b[1m count\u001b[0m\u001b[1m \u001b[0m┃\n",
              "┡━━━━━━━━━━━━━━╇━━━━━━━━━━━━━━╇━━━━━━━━━╇━━━━━━━━┩\n",
              "│      (       │     push     │ (       │      0 │\n",
              "│      )       │     pop      │         │      0 │\n",
              "│      [       │     push     │ [       │      0 │\n",
              "│      ]       │     pop      │         │      0 │\n",
              "│      {       │     push     │ {       │      0 │\n",
              "│      }       │     pop      │         │      0 │\n",
              "│              │              │         │      0 │\n",
              "└──────────────┴──────────────┴─────────┴────────┘\n"
            ],
            "text/html": [
              "<pre style=\"white-space:pre;overflow-x:auto;line-height:normal;font-family:Menlo,'DejaVu Sans Mono',consolas,'Courier New',monospace\"><span style=\"font-style: italic\">           Balance paranthesis - ()[]{}           </span>\n",
              "┏━━━━━━━━━━━━━━┳━━━━━━━━━━━━━━┳━━━━━━━━━┳━━━━━━━━┓\n",
              "┃<span style=\"font-weight: bold\">  character   </span>┃<span style=\"font-weight: bold\">  operation   </span>┃<span style=\"font-weight: bold\"> stack   </span>┃<span style=\"font-weight: bold\">  count </span>┃\n",
              "┡━━━━━━━━━━━━━━╇━━━━━━━━━━━━━━╇━━━━━━━━━╇━━━━━━━━┩\n",
              "│      (       │     push     │ (       │      0 │\n",
              "│      )       │     pop      │         │      0 │\n",
              "│      [       │     push     │ [       │      0 │\n",
              "│      ]       │     pop      │         │      0 │\n",
              "│      {       │     push     │ {       │      0 │\n",
              "│      }       │     pop      │         │      0 │\n",
              "│              │              │         │      0 │\n",
              "└──────────────┴──────────────┴─────────┴────────┘\n",
              "</pre>\n"
            ]
          },
          "metadata": {}
        },
        {
          "output_type": "stream",
          "name": "stdout",
          "text": [
            "0\n"
          ]
        },
        {
          "output_type": "display_data",
          "data": {
            "text/plain": [
              "\u001b[3m             Balance paranthesis - (]             \u001b[0m\n",
              "┏━━━━━━━━━━━━━┳━━━━━━━━━━━━━━━━┳━━━━━━━━┳━━━━━━━━┓\n",
              "┃\u001b[1m \u001b[0m\u001b[1m character \u001b[0m\u001b[1m \u001b[0m┃\u001b[1m \u001b[0m\u001b[1m  operation   \u001b[0m\u001b[1m \u001b[0m┃\u001b[1m \u001b[0m\u001b[1mstack \u001b[0m\u001b[1m \u001b[0m┃\u001b[1m \u001b[0m\u001b[1m count\u001b[0m\u001b[1m \u001b[0m┃\n",
              "┡━━━━━━━━━━━━━╇━━━━━━━━━━━━━━━━╇━━━━━━━━╇━━━━━━━━┩\n",
              "│      (      │      push      │ (      │      0 │\n",
              "│      ]      │  invalid, pop  │        │      1 │\n",
              "│             │                │        │      1 │\n",
              "└─────────────┴────────────────┴────────┴────────┘\n"
            ],
            "text/html": [
              "<pre style=\"white-space:pre;overflow-x:auto;line-height:normal;font-family:Menlo,'DejaVu Sans Mono',consolas,'Courier New',monospace\"><span style=\"font-style: italic\">             Balance paranthesis - (]             </span>\n",
              "┏━━━━━━━━━━━━━┳━━━━━━━━━━━━━━━━┳━━━━━━━━┳━━━━━━━━┓\n",
              "┃<span style=\"font-weight: bold\">  character  </span>┃<span style=\"font-weight: bold\">   operation    </span>┃<span style=\"font-weight: bold\"> stack  </span>┃<span style=\"font-weight: bold\">  count </span>┃\n",
              "┡━━━━━━━━━━━━━╇━━━━━━━━━━━━━━━━╇━━━━━━━━╇━━━━━━━━┩\n",
              "│      (      │      push      │ (      │      0 │\n",
              "│      ]      │  invalid, pop  │        │      1 │\n",
              "│             │                │        │      1 │\n",
              "└─────────────┴────────────────┴────────┴────────┘\n",
              "</pre>\n"
            ]
          },
          "metadata": {}
        },
        {
          "output_type": "stream",
          "name": "stdout",
          "text": [
            "1\n"
          ]
        },
        {
          "output_type": "display_data",
          "data": {
            "text/plain": [
              "\u001b[3m            Balance paranthesis - ([)]            \u001b[0m\n",
              "┏━━━━━━━━━━━━━┳━━━━━━━━━━━━━━━━┳━━━━━━━━┳━━━━━━━━┓\n",
              "┃\u001b[1m \u001b[0m\u001b[1m character \u001b[0m\u001b[1m \u001b[0m┃\u001b[1m \u001b[0m\u001b[1m  operation   \u001b[0m\u001b[1m \u001b[0m┃\u001b[1m \u001b[0m\u001b[1mstack \u001b[0m\u001b[1m \u001b[0m┃\u001b[1m \u001b[0m\u001b[1m count\u001b[0m\u001b[1m \u001b[0m┃\n",
              "┡━━━━━━━━━━━━━╇━━━━━━━━━━━━━━━━╇━━━━━━━━╇━━━━━━━━┩\n",
              "│      (      │      push      │ (      │      0 │\n",
              "│      [      │      push      │ ( [    │      0 │\n",
              "│      )      │  invalid, pop  │ (      │      1 │\n",
              "│      ]      │  invalid, pop  │        │      2 │\n",
              "│             │                │        │      2 │\n",
              "└─────────────┴────────────────┴────────┴────────┘\n"
            ],
            "text/html": [
              "<pre style=\"white-space:pre;overflow-x:auto;line-height:normal;font-family:Menlo,'DejaVu Sans Mono',consolas,'Courier New',monospace\"><span style=\"font-style: italic\">            Balance paranthesis - ([)]            </span>\n",
              "┏━━━━━━━━━━━━━┳━━━━━━━━━━━━━━━━┳━━━━━━━━┳━━━━━━━━┓\n",
              "┃<span style=\"font-weight: bold\">  character  </span>┃<span style=\"font-weight: bold\">   operation    </span>┃<span style=\"font-weight: bold\"> stack  </span>┃<span style=\"font-weight: bold\">  count </span>┃\n",
              "┡━━━━━━━━━━━━━╇━━━━━━━━━━━━━━━━╇━━━━━━━━╇━━━━━━━━┩\n",
              "│      (      │      push      │ (      │      0 │\n",
              "│      [      │      push      │ ( [    │      0 │\n",
              "│      )      │  invalid, pop  │ (      │      1 │\n",
              "│      ]      │  invalid, pop  │        │      2 │\n",
              "│             │                │        │      2 │\n",
              "└─────────────┴────────────────┴────────┴────────┘\n",
              "</pre>\n"
            ]
          },
          "metadata": {}
        },
        {
          "output_type": "stream",
          "name": "stdout",
          "text": [
            "2\n"
          ]
        },
        {
          "output_type": "display_data",
          "data": {
            "text/plain": [
              "\u001b[3m            Balance paranthesis - {[]}            \u001b[0m\n",
              "┏━━━━━━━━━━━━━━┳━━━━━━━━━━━━━━┳━━━━━━━━━┳━━━━━━━━┓\n",
              "┃\u001b[1m \u001b[0m\u001b[1m character  \u001b[0m\u001b[1m \u001b[0m┃\u001b[1m \u001b[0m\u001b[1m operation  \u001b[0m\u001b[1m \u001b[0m┃\u001b[1m \u001b[0m\u001b[1mstack  \u001b[0m\u001b[1m \u001b[0m┃\u001b[1m \u001b[0m\u001b[1m count\u001b[0m\u001b[1m \u001b[0m┃\n",
              "┡━━━━━━━━━━━━━━╇━━━━━━━━━━━━━━╇━━━━━━━━━╇━━━━━━━━┩\n",
              "│      {       │     push     │ {       │      0 │\n",
              "│      [       │     push     │ { [     │      0 │\n",
              "│      ]       │     pop      │ {       │      0 │\n",
              "│      }       │     pop      │         │      0 │\n",
              "│              │              │         │      0 │\n",
              "└──────────────┴──────────────┴─────────┴────────┘\n"
            ],
            "text/html": [
              "<pre style=\"white-space:pre;overflow-x:auto;line-height:normal;font-family:Menlo,'DejaVu Sans Mono',consolas,'Courier New',monospace\"><span style=\"font-style: italic\">            Balance paranthesis - {[]}            </span>\n",
              "┏━━━━━━━━━━━━━━┳━━━━━━━━━━━━━━┳━━━━━━━━━┳━━━━━━━━┓\n",
              "┃<span style=\"font-weight: bold\">  character   </span>┃<span style=\"font-weight: bold\">  operation   </span>┃<span style=\"font-weight: bold\"> stack   </span>┃<span style=\"font-weight: bold\">  count </span>┃\n",
              "┡━━━━━━━━━━━━━━╇━━━━━━━━━━━━━━╇━━━━━━━━━╇━━━━━━━━┩\n",
              "│      {       │     push     │ {       │      0 │\n",
              "│      [       │     push     │ { [     │      0 │\n",
              "│      ]       │     pop      │ {       │      0 │\n",
              "│      }       │     pop      │         │      0 │\n",
              "│              │              │         │      0 │\n",
              "└──────────────┴──────────────┴─────────┴────────┘\n",
              "</pre>\n"
            ]
          },
          "metadata": {}
        },
        {
          "output_type": "stream",
          "name": "stdout",
          "text": [
            "0\n"
          ]
        }
      ],
      "source": [
        "from collections import deque\n",
        "from rich.console import Console\n",
        "from rich.table import Table\n",
        "\n",
        "console = Console()\n",
        "\n",
        "\n",
        "def balancing_brackets_count(s: str) -> int:\n",
        "  stack = deque()\n",
        "\n",
        "  mapping = {'}': '{', ']': '[', ')': '('}\n",
        "\n",
        "  table = Table(title=f\"Balance paranthesis - {s}\", width=50)\n",
        "  table.add_column('character', justify='center')\n",
        "  table.add_column('operation', justify='center')\n",
        "  table.add_column('stack', justify='left')\n",
        "  table.add_column('count', justify='right')\n",
        "\n",
        "  count = 0\n",
        "\n",
        "  for char in s:\n",
        "    if char in mapping:\n",
        "      if stack:\n",
        "        if mapping[char] != stack[-1]:\n",
        "          count += 1\n",
        "        popped = stack.pop()\n",
        "\n",
        "        table.add_row(char, 'invalid, pop' if mapping[char] != popped else 'pop',\n",
        "                      join_sequence_to_string(stack), str(count))\n",
        "      else:\n",
        "        count += 1\n",
        "        table.add_row(char, 'invalid', join_sequence_to_string(stack), str(count))\n",
        "    else:\n",
        "      stack.append(char)\n",
        "      table.add_row(char, 'push', join_sequence_to_string(stack), str(count))\n",
        "\n",
        "\n",
        "  count += len(stack)\n",
        "  table.add_row('', '', '', str(count))\n",
        "\n",
        "  console.print(table)\n",
        "\n",
        "  return count\n",
        "\n",
        "for test_case in BALANCING_BRACKETS_TEST_CASES:\n",
        "  print(balancing_brackets_count(test_case))"
      ]
    },
    {
      "cell_type": "markdown",
      "metadata": {
        "id": "JWwWnkHPtTnf"
      },
      "source": [
        "## 2. Expression Conversions"
      ]
    },
    {
      "cell_type": "code",
      "source": [
        "INFIX_EXPRESSION = 'a+b*(c^d-e)^(f+g*h)-i'\n",
        "PREFIX_EXPRESSION = '-+a*b^-^cde+f*ghi'\n",
        "POSTFIX_EXPRESSION = 'abcd^e-fgh*+^*+i-'"
      ],
      "metadata": {
        "id": "Nxi2i9ccjrrI"
      },
      "execution_count": 5,
      "outputs": []
    },
    {
      "cell_type": "markdown",
      "metadata": {
        "id": "4nn6ipyj3DHO"
      },
      "source": [
        "### 2.1. Infix to Postfix"
      ]
    },
    {
      "cell_type": "code",
      "execution_count": 6,
      "metadata": {
        "id": "h214oweZtS2y",
        "colab": {
          "base_uri": "https://localhost:8080/",
          "height": 481
        },
        "outputId": "b52a3683-f4c4-4531-e29d-8a5346fca775"
      },
      "outputs": [
        {
          "output_type": "display_data",
          "data": {
            "text/plain": [
              "\u001b[3m               Infix to Postfix                \u001b[0m\n",
              "┏━━━━━━━━━━━┳━━━━━━━━━━━━━━━━━━━┳━━━━━━━━━━━━━┓\n",
              "┃\u001b[1m \u001b[0m\u001b[1mCharacter\u001b[0m\u001b[1m \u001b[0m┃\u001b[1m \u001b[0m\u001b[1mPostfix          \u001b[0m\u001b[1m \u001b[0m┃\u001b[1m \u001b[0m\u001b[1mStack      \u001b[0m\u001b[1m \u001b[0m┃\n",
              "┡━━━━━━━━━━━╇━━━━━━━━━━━━━━━━━━━╇━━━━━━━━━━━━━┩\n",
              "│ a         │ a                 │             │\n",
              "│ +         │ a                 │ +           │\n",
              "│ b         │ ab                │ +           │\n",
              "│ *         │ ab                │ + *         │\n",
              "│ (         │ ab                │ + * (       │\n",
              "│ c         │ abc               │ + * (       │\n",
              "│ ^         │ abc               │ + * ( ^     │\n",
              "│ d         │ abcd              │ + * ( ^     │\n",
              "│ -         │ abcd^             │ + * ( -     │\n",
              "│ e         │ abcd^e            │ + * ( -     │\n",
              "│ )         │ abcd^e-           │ + *         │\n",
              "│ ^         │ abcd^e-           │ + * ^       │\n",
              "│ (         │ abcd^e-           │ + * ^ (     │\n",
              "│ f         │ abcd^e-f          │ + * ^ (     │\n",
              "│ +         │ abcd^e-f          │ + * ^ ( +   │\n",
              "│ g         │ abcd^e-fg         │ + * ^ ( +   │\n",
              "│ *         │ abcd^e-fg         │ + * ^ ( + * │\n",
              "│ h         │ abcd^e-fgh        │ + * ^ ( + * │\n",
              "│ )         │ abcd^e-fgh*+      │ + * ^       │\n",
              "│ -         │ abcd^e-fgh*+^*+   │ -           │\n",
              "│ i         │ abcd^e-fgh*+^*+i  │ -           │\n",
              "│           │ abcd^e-fgh*+^*+i- │             │\n",
              "└───────────┴───────────────────┴─────────────┘\n"
            ],
            "text/html": [
              "<pre style=\"white-space:pre;overflow-x:auto;line-height:normal;font-family:Menlo,'DejaVu Sans Mono',consolas,'Courier New',monospace\"><span style=\"font-style: italic\">               Infix to Postfix                </span>\n",
              "┏━━━━━━━━━━━┳━━━━━━━━━━━━━━━━━━━┳━━━━━━━━━━━━━┓\n",
              "┃<span style=\"font-weight: bold\"> Character </span>┃<span style=\"font-weight: bold\"> Postfix           </span>┃<span style=\"font-weight: bold\"> Stack       </span>┃\n",
              "┡━━━━━━━━━━━╇━━━━━━━━━━━━━━━━━━━╇━━━━━━━━━━━━━┩\n",
              "│ a         │ a                 │             │\n",
              "│ +         │ a                 │ +           │\n",
              "│ b         │ ab                │ +           │\n",
              "│ *         │ ab                │ + *         │\n",
              "│ (         │ ab                │ + * (       │\n",
              "│ c         │ abc               │ + * (       │\n",
              "│ ^         │ abc               │ + * ( ^     │\n",
              "│ d         │ abcd              │ + * ( ^     │\n",
              "│ -         │ abcd^             │ + * ( -     │\n",
              "│ e         │ abcd^e            │ + * ( -     │\n",
              "│ )         │ abcd^e-           │ + *         │\n",
              "│ ^         │ abcd^e-           │ + * ^       │\n",
              "│ (         │ abcd^e-           │ + * ^ (     │\n",
              "│ f         │ abcd^e-f          │ + * ^ (     │\n",
              "│ +         │ abcd^e-f          │ + * ^ ( +   │\n",
              "│ g         │ abcd^e-fg         │ + * ^ ( +   │\n",
              "│ *         │ abcd^e-fg         │ + * ^ ( + * │\n",
              "│ h         │ abcd^e-fgh        │ + * ^ ( + * │\n",
              "│ )         │ abcd^e-fgh*+      │ + * ^       │\n",
              "│ -         │ abcd^e-fgh*+^*+   │ -           │\n",
              "│ i         │ abcd^e-fgh*+^*+i  │ -           │\n",
              "│           │ abcd^e-fgh*+^*+i- │             │\n",
              "└───────────┴───────────────────┴─────────────┘\n",
              "</pre>\n"
            ]
          },
          "metadata": {}
        },
        {
          "output_type": "execute_result",
          "data": {
            "text/plain": [
              "'abcd^e-fgh*+^*+i-'"
            ],
            "application/vnd.google.colaboratory.intrinsic+json": {
              "type": "string"
            }
          },
          "metadata": {},
          "execution_count": 6
        }
      ],
      "source": [
        "from collections import deque\n",
        "from rich.console import Console\n",
        "from rich.table import Table\n",
        "\n",
        "console = Console()\n",
        "\n",
        "\n",
        "def infix_to_postfix(s: str) -> str:\n",
        "  postfix = ''\n",
        "  stack = deque()\n",
        "  n = len(s)\n",
        "\n",
        "  precedence = {'+': 1, '-': 1, '*': 2, '/': 2, '^': 3}\n",
        "\n",
        "  table = Table(title='Infix to Postfix')\n",
        "  table.add_column('Character')\n",
        "  table.add_column('Postfix')\n",
        "  table.add_column('Stack')\n",
        "\n",
        "  for char in s:\n",
        "    if is_operand(char):\n",
        "      postfix += char\n",
        "\n",
        "    elif char == '(':\n",
        "      stack.append(char)\n",
        "\n",
        "    elif char == ')':\n",
        "      while stack and stack[-1] != '(':\n",
        "        postfix += stack.pop()\n",
        "      stack.pop()\n",
        "\n",
        "    else:\n",
        "      while stack and stack[-1] in precedence and precedence[char] <= precedence[stack[-1]]:\n",
        "        postfix += stack.pop()\n",
        "      stack.append(char)\n",
        "\n",
        "    table.add_row(char, postfix, join_sequence_to_string(stack))\n",
        "\n",
        "  while stack:\n",
        "    postfix += stack.pop()\n",
        "    table.add_row('', postfix, join_sequence_to_string(stack))\n",
        "\n",
        "  console.print(table)\n",
        "\n",
        "  return postfix\n",
        "\n",
        "infix_to_postfix(INFIX_EXPRESSION)"
      ]
    },
    {
      "cell_type": "markdown",
      "metadata": {
        "id": "2blM5cAS3jEL"
      },
      "source": [
        "### 2.2. Infix to Prefix"
      ]
    },
    {
      "cell_type": "code",
      "execution_count": 7,
      "metadata": {
        "id": "hPtfz4Yj3iXY",
        "colab": {
          "base_uri": "https://localhost:8080/",
          "height": 497
        },
        "outputId": "f46b95e6-4bb1-4180-92a0-2405eff19884"
      },
      "outputs": [
        {
          "output_type": "display_data",
          "data": {
            "text/plain": [
              "\u001b[3m               Infix to Prefix               \u001b[0m\n",
              "┏━━━━━━━━━━━┳━━━━━━━━━━━━━━━━━━━┳━━━━━━━━━━━┓\n",
              "┃\u001b[1m \u001b[0m\u001b[1mCharacter\u001b[0m\u001b[1m \u001b[0m┃\u001b[1m \u001b[0m\u001b[1mPrefix           \u001b[0m\u001b[1m \u001b[0m┃\u001b[1m \u001b[0m\u001b[1mStack    \u001b[0m\u001b[1m \u001b[0m┃\n",
              "┡━━━━━━━━━━━╇━━━━━━━━━━━━━━━━━━━╇━━━━━━━━━━━┩\n",
              "│ i         │ i                 │           │\n",
              "│ -         │ i                 │ -         │\n",
              "│ (         │ i                 │ - (       │\n",
              "│ h         │ ih                │ - (       │\n",
              "│ *         │ ih                │ - ( *     │\n",
              "│ g         │ ihg               │ - ( *     │\n",
              "│ +         │ ihg*              │ - ( +     │\n",
              "│ f         │ ihg*f             │ - ( +     │\n",
              "│ )         │ ihg*f+            │ -         │\n",
              "│ ^         │ ihg*f+            │ - ^       │\n",
              "│ (         │ ihg*f+            │ - ^ (     │\n",
              "│ e         │ ihg*f+e           │ - ^ (     │\n",
              "│ -         │ ihg*f+e           │ - ^ ( -   │\n",
              "│ d         │ ihg*f+ed          │ - ^ ( -   │\n",
              "│ ^         │ ihg*f+ed          │ - ^ ( - ^ │\n",
              "│ c         │ ihg*f+edc         │ - ^ ( - ^ │\n",
              "│ )         │ ihg*f+edc^-       │ - ^       │\n",
              "│ *         │ ihg*f+edc^-^      │ - *       │\n",
              "│ b         │ ihg*f+edc^-^b     │ - *       │\n",
              "│ +         │ ihg*f+edc^-^b*    │ - +       │\n",
              "│ a         │ ihg*f+edc^-^b*a   │ - +       │\n",
              "│           │ ihg*f+edc^-^b*a+  │ -         │\n",
              "│           │ ihg*f+edc^-^b*a+- │           │\n",
              "└───────────┴───────────────────┴───────────┘\n"
            ],
            "text/html": [
              "<pre style=\"white-space:pre;overflow-x:auto;line-height:normal;font-family:Menlo,'DejaVu Sans Mono',consolas,'Courier New',monospace\"><span style=\"font-style: italic\">               Infix to Prefix               </span>\n",
              "┏━━━━━━━━━━━┳━━━━━━━━━━━━━━━━━━━┳━━━━━━━━━━━┓\n",
              "┃<span style=\"font-weight: bold\"> Character </span>┃<span style=\"font-weight: bold\"> Prefix            </span>┃<span style=\"font-weight: bold\"> Stack     </span>┃\n",
              "┡━━━━━━━━━━━╇━━━━━━━━━━━━━━━━━━━╇━━━━━━━━━━━┩\n",
              "│ i         │ i                 │           │\n",
              "│ -         │ i                 │ -         │\n",
              "│ (         │ i                 │ - (       │\n",
              "│ h         │ ih                │ - (       │\n",
              "│ *         │ ih                │ - ( *     │\n",
              "│ g         │ ihg               │ - ( *     │\n",
              "│ +         │ ihg*              │ - ( +     │\n",
              "│ f         │ ihg*f             │ - ( +     │\n",
              "│ )         │ ihg*f+            │ -         │\n",
              "│ ^         │ ihg*f+            │ - ^       │\n",
              "│ (         │ ihg*f+            │ - ^ (     │\n",
              "│ e         │ ihg*f+e           │ - ^ (     │\n",
              "│ -         │ ihg*f+e           │ - ^ ( -   │\n",
              "│ d         │ ihg*f+ed          │ - ^ ( -   │\n",
              "│ ^         │ ihg*f+ed          │ - ^ ( - ^ │\n",
              "│ c         │ ihg*f+edc         │ - ^ ( - ^ │\n",
              "│ )         │ ihg*f+edc^-       │ - ^       │\n",
              "│ *         │ ihg*f+edc^-^      │ - *       │\n",
              "│ b         │ ihg*f+edc^-^b     │ - *       │\n",
              "│ +         │ ihg*f+edc^-^b*    │ - +       │\n",
              "│ a         │ ihg*f+edc^-^b*a   │ - +       │\n",
              "│           │ ihg*f+edc^-^b*a+  │ -         │\n",
              "│           │ ihg*f+edc^-^b*a+- │           │\n",
              "└───────────┴───────────────────┴───────────┘\n",
              "</pre>\n"
            ]
          },
          "metadata": {}
        },
        {
          "output_type": "execute_result",
          "data": {
            "text/plain": [
              "'-+a*b^-^cde+f*ghi'"
            ],
            "application/vnd.google.colaboratory.intrinsic+json": {
              "type": "string"
            }
          },
          "metadata": {},
          "execution_count": 7
        }
      ],
      "source": [
        "from collections import deque\n",
        "from rich.console import Console\n",
        "from rich.table import Table\n",
        "\n",
        "console = Console()\n",
        "\n",
        "\n",
        "def infix_to_prefix(s: str) -> str:\n",
        "  prefix = ''\n",
        "  stack = deque()\n",
        "  n = len(s)\n",
        "\n",
        "  precedence = {'+': 1, '-': 1, '*': 2, '/': 2, '^': 3}\n",
        "\n",
        "  table = Table(title='Infix to Prefix')\n",
        "  table.add_column('Character')\n",
        "  table.add_column('Prefix')\n",
        "  table.add_column('Stack')\n",
        "\n",
        "  for char in reverse_expression(s):\n",
        "    if is_operand(char):\n",
        "      prefix += char\n",
        "\n",
        "    elif char == '(':\n",
        "      stack.append(char)\n",
        "\n",
        "    elif char == ')':\n",
        "      while stack and stack[-1] != '(':\n",
        "        prefix += stack.pop()\n",
        "      stack.pop()\n",
        "\n",
        "    else:\n",
        "      while stack and stack[-1] in precedence and precedence[char] < precedence[stack[-1]]:\n",
        "        prefix += stack.pop()\n",
        "      stack.append(char)\n",
        "\n",
        "    table.add_row(char, prefix, join_sequence_to_string(stack))\n",
        "\n",
        "  while stack:\n",
        "    prefix += stack.pop()\n",
        "    table.add_row('', prefix, join_sequence_to_string(stack))\n",
        "\n",
        "  console.print(table)\n",
        "\n",
        "  return reverse_expression(prefix)\n",
        "\n",
        "infix_to_prefix(INFIX_EXPRESSION)"
      ]
    },
    {
      "cell_type": "markdown",
      "metadata": {
        "id": "WhMk_jMY6zFk"
      },
      "source": [
        "### 2.3. Postfix to Infix"
      ]
    },
    {
      "cell_type": "code",
      "execution_count": 8,
      "metadata": {
        "id": "moLtnbjT62xa",
        "colab": {
          "base_uri": "https://localhost:8080/",
          "height": 398
        },
        "outputId": "96bb6792-7fdb-4002-a147-3b5ed5a0377e"
      },
      "outputs": [
        {
          "output_type": "display_data",
          "data": {
            "text/plain": [
              "\u001b[3m                Postfix to Infix                 \u001b[0m\n",
              "┏━━━━━━━━━━━┳━━━━━━━━━━━━━━━━━━━━━━━━━━━━━━━━━━━┓\n",
              "┃\u001b[1m \u001b[0m\u001b[1mCharacter\u001b[0m\u001b[1m \u001b[0m┃\u001b[1m \u001b[0m\u001b[1mStack                            \u001b[0m\u001b[1m \u001b[0m┃\n",
              "┡━━━━━━━━━━━╇━━━━━━━━━━━━━━━━━━━━━━━━━━━━━━━━━━━┩\n",
              "│ a         │ a                                 │\n",
              "│ b         │ a b                               │\n",
              "│ c         │ a b c                             │\n",
              "│ d         │ a b c d                           │\n",
              "│ ^         │ a b (c^d)                         │\n",
              "│ e         │ a b (c^d) e                       │\n",
              "│ -         │ a b ((c^d)-e)                     │\n",
              "│ f         │ a b ((c^d)-e) f                   │\n",
              "│ g         │ a b ((c^d)-e) f g                 │\n",
              "│ h         │ a b ((c^d)-e) f g h               │\n",
              "│ *         │ a b ((c^d)-e) f (g*h)             │\n",
              "│ +         │ a b ((c^d)-e) (f+(g*h))           │\n",
              "│ ^         │ a b (((c^d)-e)^(f+(g*h)))         │\n",
              "│ *         │ a (b*(((c^d)-e)^(f+(g*h))))       │\n",
              "│ +         │ (a+(b*(((c^d)-e)^(f+(g*h)))))     │\n",
              "│ i         │ (a+(b*(((c^d)-e)^(f+(g*h))))) i   │\n",
              "│ -         │ ((a+(b*(((c^d)-e)^(f+(g*h)))))-i) │\n",
              "└───────────┴───────────────────────────────────┘\n"
            ],
            "text/html": [
              "<pre style=\"white-space:pre;overflow-x:auto;line-height:normal;font-family:Menlo,'DejaVu Sans Mono',consolas,'Courier New',monospace\"><span style=\"font-style: italic\">                Postfix to Infix                 </span>\n",
              "┏━━━━━━━━━━━┳━━━━━━━━━━━━━━━━━━━━━━━━━━━━━━━━━━━┓\n",
              "┃<span style=\"font-weight: bold\"> Character </span>┃<span style=\"font-weight: bold\"> Stack                             </span>┃\n",
              "┡━━━━━━━━━━━╇━━━━━━━━━━━━━━━━━━━━━━━━━━━━━━━━━━━┩\n",
              "│ a         │ a                                 │\n",
              "│ b         │ a b                               │\n",
              "│ c         │ a b c                             │\n",
              "│ d         │ a b c d                           │\n",
              "│ ^         │ a b (c^d)                         │\n",
              "│ e         │ a b (c^d) e                       │\n",
              "│ -         │ a b ((c^d)-e)                     │\n",
              "│ f         │ a b ((c^d)-e) f                   │\n",
              "│ g         │ a b ((c^d)-e) f g                 │\n",
              "│ h         │ a b ((c^d)-e) f g h               │\n",
              "│ *         │ a b ((c^d)-e) f (g*h)             │\n",
              "│ +         │ a b ((c^d)-e) (f+(g*h))           │\n",
              "│ ^         │ a b (((c^d)-e)^(f+(g*h)))         │\n",
              "│ *         │ a (b*(((c^d)-e)^(f+(g*h))))       │\n",
              "│ +         │ (a+(b*(((c^d)-e)^(f+(g*h)))))     │\n",
              "│ i         │ (a+(b*(((c^d)-e)^(f+(g*h))))) i   │\n",
              "│ -         │ ((a+(b*(((c^d)-e)^(f+(g*h)))))-i) │\n",
              "└───────────┴───────────────────────────────────┘\n",
              "</pre>\n"
            ]
          },
          "metadata": {}
        },
        {
          "output_type": "execute_result",
          "data": {
            "text/plain": [
              "'((a+(b*(((c^d)-e)^(f+(g*h)))))-i)'"
            ],
            "application/vnd.google.colaboratory.intrinsic+json": {
              "type": "string"
            }
          },
          "metadata": {},
          "execution_count": 8
        }
      ],
      "source": [
        "from collections import deque\n",
        "from rich.console import Console\n",
        "from rich.table import Table\n",
        "\n",
        "console = Console()\n",
        "\n",
        "\n",
        "def postfix_to_infix(s: str) -> str:\n",
        "  stack = deque()\n",
        "\n",
        "  table = Table(title='Postfix to Infix')\n",
        "  table.add_column('Character')\n",
        "  table.add_column('Stack')\n",
        "\n",
        "  for char in s:\n",
        "    if is_operand(char):\n",
        "      stack.append(char)\n",
        "    else:\n",
        "      b = stack.pop()\n",
        "      a = stack.pop()\n",
        "      stack.append(f'({a}{char}{b})')\n",
        "\n",
        "    table.add_row(char, join_sequence_to_string(stack))\n",
        "\n",
        "  console.print(table)\n",
        "\n",
        "  return stack.pop()\n",
        "\n",
        "postfix_to_infix(POSTFIX_EXPRESSION)"
      ]
    },
    {
      "cell_type": "markdown",
      "metadata": {
        "id": "o7G9QV03_c-Y"
      },
      "source": [
        "### 2.4. Prefix to Infix"
      ]
    },
    {
      "cell_type": "code",
      "execution_count": 9,
      "metadata": {
        "id": "ChOiVRsg-PF7",
        "colab": {
          "base_uri": "https://localhost:8080/",
          "height": 398
        },
        "outputId": "346ea320-f932-41cf-dd69-afbd74cf38b9"
      },
      "outputs": [
        {
          "output_type": "display_data",
          "data": {
            "text/plain": [
              "\u001b[3m                 Prefix to Infix                 \u001b[0m\n",
              "┏━━━━━━━━━━━┳━━━━━━━━━━━━━━━━━━━━━━━━━━━━━━━━━━━┓\n",
              "┃\u001b[1m \u001b[0m\u001b[1mCharacter\u001b[0m\u001b[1m \u001b[0m┃\u001b[1m \u001b[0m\u001b[1mStack                            \u001b[0m\u001b[1m \u001b[0m┃\n",
              "┡━━━━━━━━━━━╇━━━━━━━━━━━━━━━━━━━━━━━━━━━━━━━━━━━┩\n",
              "│ i         │ i                                 │\n",
              "│ h         │ i h                               │\n",
              "│ g         │ i h g                             │\n",
              "│ *         │ i (g*h)                           │\n",
              "│ f         │ i (g*h) f                         │\n",
              "│ +         │ i (f+(g*h))                       │\n",
              "│ e         │ i (f+(g*h)) e                     │\n",
              "│ d         │ i (f+(g*h)) e d                   │\n",
              "│ c         │ i (f+(g*h)) e d c                 │\n",
              "│ ^         │ i (f+(g*h)) e (c^d)               │\n",
              "│ -         │ i (f+(g*h)) ((c^d)-e)             │\n",
              "│ ^         │ i (((c^d)-e)^(f+(g*h)))           │\n",
              "│ b         │ i (((c^d)-e)^(f+(g*h))) b         │\n",
              "│ *         │ i (b*(((c^d)-e)^(f+(g*h))))       │\n",
              "│ a         │ i (b*(((c^d)-e)^(f+(g*h)))) a     │\n",
              "│ +         │ i (a+(b*(((c^d)-e)^(f+(g*h)))))   │\n",
              "│ -         │ ((a+(b*(((c^d)-e)^(f+(g*h)))))-i) │\n",
              "└───────────┴───────────────────────────────────┘\n"
            ],
            "text/html": [
              "<pre style=\"white-space:pre;overflow-x:auto;line-height:normal;font-family:Menlo,'DejaVu Sans Mono',consolas,'Courier New',monospace\"><span style=\"font-style: italic\">                 Prefix to Infix                 </span>\n",
              "┏━━━━━━━━━━━┳━━━━━━━━━━━━━━━━━━━━━━━━━━━━━━━━━━━┓\n",
              "┃<span style=\"font-weight: bold\"> Character </span>┃<span style=\"font-weight: bold\"> Stack                             </span>┃\n",
              "┡━━━━━━━━━━━╇━━━━━━━━━━━━━━━━━━━━━━━━━━━━━━━━━━━┩\n",
              "│ i         │ i                                 │\n",
              "│ h         │ i h                               │\n",
              "│ g         │ i h g                             │\n",
              "│ *         │ i (g*h)                           │\n",
              "│ f         │ i (g*h) f                         │\n",
              "│ +         │ i (f+(g*h))                       │\n",
              "│ e         │ i (f+(g*h)) e                     │\n",
              "│ d         │ i (f+(g*h)) e d                   │\n",
              "│ c         │ i (f+(g*h)) e d c                 │\n",
              "│ ^         │ i (f+(g*h)) e (c^d)               │\n",
              "│ -         │ i (f+(g*h)) ((c^d)-e)             │\n",
              "│ ^         │ i (((c^d)-e)^(f+(g*h)))           │\n",
              "│ b         │ i (((c^d)-e)^(f+(g*h))) b         │\n",
              "│ *         │ i (b*(((c^d)-e)^(f+(g*h))))       │\n",
              "│ a         │ i (b*(((c^d)-e)^(f+(g*h)))) a     │\n",
              "│ +         │ i (a+(b*(((c^d)-e)^(f+(g*h)))))   │\n",
              "│ -         │ ((a+(b*(((c^d)-e)^(f+(g*h)))))-i) │\n",
              "└───────────┴───────────────────────────────────┘\n",
              "</pre>\n"
            ]
          },
          "metadata": {}
        },
        {
          "output_type": "execute_result",
          "data": {
            "text/plain": [
              "'((a+(b*(((c^d)-e)^(f+(g*h)))))-i)'"
            ],
            "application/vnd.google.colaboratory.intrinsic+json": {
              "type": "string"
            }
          },
          "metadata": {},
          "execution_count": 9
        }
      ],
      "source": [
        "from collections import deque\n",
        "from rich.console import Console\n",
        "from rich.table import Table\n",
        "\n",
        "console = Console()\n",
        "\n",
        "\n",
        "def prefix_to_infix(s: str) -> str:\n",
        "  stack = deque()\n",
        "\n",
        "  table = Table(title='Prefix to Infix')\n",
        "  table.add_column('Character')\n",
        "  table.add_column('Stack')\n",
        "\n",
        "  for char in s[::-1]:\n",
        "    if is_operand(char):\n",
        "      stack.append(char)\n",
        "    else:\n",
        "      a = stack.pop()\n",
        "      b = stack.pop()\n",
        "      stack.append(f'({a}{char}{b})')\n",
        "\n",
        "    table.add_row(char, join_sequence_to_string(stack))\n",
        "\n",
        "  console.print(table)\n",
        "\n",
        "  return stack.pop()\n",
        "\n",
        "prefix_to_infix(PREFIX_EXPRESSION)"
      ]
    },
    {
      "cell_type": "markdown",
      "metadata": {
        "id": "yu4JTohD_mu6"
      },
      "source": [
        "### 2.5. Postfix to Prefix"
      ]
    },
    {
      "cell_type": "code",
      "execution_count": 10,
      "metadata": {
        "id": "6km8b4eH_ppX",
        "colab": {
          "base_uri": "https://localhost:8080/",
          "height": 398
        },
        "outputId": "7abd001d-b0c6-4b56-f8c3-33f419ff5d13"
      },
      "outputs": [
        {
          "output_type": "display_data",
          "data": {
            "text/plain": [
              "\u001b[3m        Postfix to Prefix        \u001b[0m\n",
              "┏━━━━━━━━━━━┳━━━━━━━━━━━━━━━━━━━┓\n",
              "┃\u001b[1m \u001b[0m\u001b[1mCharacter\u001b[0m\u001b[1m \u001b[0m┃\u001b[1m \u001b[0m\u001b[1mStack            \u001b[0m\u001b[1m \u001b[0m┃\n",
              "┡━━━━━━━━━━━╇━━━━━━━━━━━━━━━━━━━┩\n",
              "│ a         │ a                 │\n",
              "│ b         │ a b               │\n",
              "│ c         │ a b c             │\n",
              "│ d         │ a b c d           │\n",
              "│ ^         │ a b ^cd           │\n",
              "│ e         │ a b ^cd e         │\n",
              "│ -         │ a b -^cde         │\n",
              "│ f         │ a b -^cde f       │\n",
              "│ g         │ a b -^cde f g     │\n",
              "│ h         │ a b -^cde f g h   │\n",
              "│ *         │ a b -^cde f *gh   │\n",
              "│ +         │ a b -^cde +f*gh   │\n",
              "│ ^         │ a b ^-^cde+f*gh   │\n",
              "│ *         │ a *b^-^cde+f*gh   │\n",
              "│ +         │ +a*b^-^cde+f*gh   │\n",
              "│ i         │ +a*b^-^cde+f*gh i │\n",
              "│ -         │ -+a*b^-^cde+f*ghi │\n",
              "└───────────┴───────────────────┘\n"
            ],
            "text/html": [
              "<pre style=\"white-space:pre;overflow-x:auto;line-height:normal;font-family:Menlo,'DejaVu Sans Mono',consolas,'Courier New',monospace\"><span style=\"font-style: italic\">        Postfix to Prefix        </span>\n",
              "┏━━━━━━━━━━━┳━━━━━━━━━━━━━━━━━━━┓\n",
              "┃<span style=\"font-weight: bold\"> Character </span>┃<span style=\"font-weight: bold\"> Stack             </span>┃\n",
              "┡━━━━━━━━━━━╇━━━━━━━━━━━━━━━━━━━┩\n",
              "│ a         │ a                 │\n",
              "│ b         │ a b               │\n",
              "│ c         │ a b c             │\n",
              "│ d         │ a b c d           │\n",
              "│ ^         │ a b ^cd           │\n",
              "│ e         │ a b ^cd e         │\n",
              "│ -         │ a b -^cde         │\n",
              "│ f         │ a b -^cde f       │\n",
              "│ g         │ a b -^cde f g     │\n",
              "│ h         │ a b -^cde f g h   │\n",
              "│ *         │ a b -^cde f *gh   │\n",
              "│ +         │ a b -^cde +f*gh   │\n",
              "│ ^         │ a b ^-^cde+f*gh   │\n",
              "│ *         │ a *b^-^cde+f*gh   │\n",
              "│ +         │ +a*b^-^cde+f*gh   │\n",
              "│ i         │ +a*b^-^cde+f*gh i │\n",
              "│ -         │ -+a*b^-^cde+f*ghi │\n",
              "└───────────┴───────────────────┘\n",
              "</pre>\n"
            ]
          },
          "metadata": {}
        },
        {
          "output_type": "execute_result",
          "data": {
            "text/plain": [
              "'-+a*b^-^cde+f*ghi'"
            ],
            "application/vnd.google.colaboratory.intrinsic+json": {
              "type": "string"
            }
          },
          "metadata": {},
          "execution_count": 10
        }
      ],
      "source": [
        "from collections import deque\n",
        "from rich.console import Console\n",
        "from rich.table import Table\n",
        "\n",
        "console = Console()\n",
        "\n",
        "\n",
        "def postfix_to_prefix(s: str) -> str:\n",
        "  stack = deque()\n",
        "\n",
        "  table = Table(title='Postfix to Prefix')\n",
        "  table.add_column('Character')\n",
        "  table.add_column('Stack')\n",
        "\n",
        "  for char in s:\n",
        "    if is_operand(char):\n",
        "      stack.append(char)\n",
        "    else:\n",
        "      b = stack.pop()\n",
        "      a = stack.pop()\n",
        "      stack.append(f'{char}{a}{b}')\n",
        "\n",
        "    table.add_row(char, join_sequence_to_string(stack))\n",
        "\n",
        "  console.print(table)\n",
        "\n",
        "  return stack.pop()\n",
        "\n",
        "postfix_to_prefix(POSTFIX_EXPRESSION)"
      ]
    },
    {
      "cell_type": "markdown",
      "metadata": {
        "id": "bwHPWF7PAfUi"
      },
      "source": [
        "### 2.6. Prefix to Postfix"
      ]
    },
    {
      "cell_type": "code",
      "execution_count": 11,
      "metadata": {
        "id": "xJ9hC-uwAI1v",
        "colab": {
          "base_uri": "https://localhost:8080/",
          "height": 398
        },
        "outputId": "a2515894-1373-4f8d-a5f9-5c2c52ed3a3e"
      },
      "outputs": [
        {
          "output_type": "display_data",
          "data": {
            "text/plain": [
              "\u001b[3m        Prefix to Postfix        \u001b[0m\n",
              "┏━━━━━━━━━━━┳━━━━━━━━━━━━━━━━━━━┓\n",
              "┃\u001b[1m \u001b[0m\u001b[1mCharacter\u001b[0m\u001b[1m \u001b[0m┃\u001b[1m \u001b[0m\u001b[1mStack            \u001b[0m\u001b[1m \u001b[0m┃\n",
              "┡━━━━━━━━━━━╇━━━━━━━━━━━━━━━━━━━┩\n",
              "│ i         │ i                 │\n",
              "│ h         │ i h               │\n",
              "│ g         │ i h g             │\n",
              "│ *         │ i gh*             │\n",
              "│ f         │ i gh* f           │\n",
              "│ +         │ i fgh*+           │\n",
              "│ e         │ i fgh*+ e         │\n",
              "│ d         │ i fgh*+ e d       │\n",
              "│ c         │ i fgh*+ e d c     │\n",
              "│ ^         │ i fgh*+ e cd^     │\n",
              "│ -         │ i fgh*+ cd^e-     │\n",
              "│ ^         │ i cd^e-fgh*+^     │\n",
              "│ b         │ i cd^e-fgh*+^ b   │\n",
              "│ *         │ i bcd^e-fgh*+^*   │\n",
              "│ a         │ i bcd^e-fgh*+^* a │\n",
              "│ +         │ i abcd^e-fgh*+^*+ │\n",
              "│ -         │ abcd^e-fgh*+^*+i- │\n",
              "└───────────┴───────────────────┘\n"
            ],
            "text/html": [
              "<pre style=\"white-space:pre;overflow-x:auto;line-height:normal;font-family:Menlo,'DejaVu Sans Mono',consolas,'Courier New',monospace\"><span style=\"font-style: italic\">        Prefix to Postfix        </span>\n",
              "┏━━━━━━━━━━━┳━━━━━━━━━━━━━━━━━━━┓\n",
              "┃<span style=\"font-weight: bold\"> Character </span>┃<span style=\"font-weight: bold\"> Stack             </span>┃\n",
              "┡━━━━━━━━━━━╇━━━━━━━━━━━━━━━━━━━┩\n",
              "│ i         │ i                 │\n",
              "│ h         │ i h               │\n",
              "│ g         │ i h g             │\n",
              "│ *         │ i gh*             │\n",
              "│ f         │ i gh* f           │\n",
              "│ +         │ i fgh*+           │\n",
              "│ e         │ i fgh*+ e         │\n",
              "│ d         │ i fgh*+ e d       │\n",
              "│ c         │ i fgh*+ e d c     │\n",
              "│ ^         │ i fgh*+ e cd^     │\n",
              "│ -         │ i fgh*+ cd^e-     │\n",
              "│ ^         │ i cd^e-fgh*+^     │\n",
              "│ b         │ i cd^e-fgh*+^ b   │\n",
              "│ *         │ i bcd^e-fgh*+^*   │\n",
              "│ a         │ i bcd^e-fgh*+^* a │\n",
              "│ +         │ i abcd^e-fgh*+^*+ │\n",
              "│ -         │ abcd^e-fgh*+^*+i- │\n",
              "└───────────┴───────────────────┘\n",
              "</pre>\n"
            ]
          },
          "metadata": {}
        },
        {
          "output_type": "execute_result",
          "data": {
            "text/plain": [
              "'abcd^e-fgh*+^*+i-'"
            ],
            "application/vnd.google.colaboratory.intrinsic+json": {
              "type": "string"
            }
          },
          "metadata": {},
          "execution_count": 11
        }
      ],
      "source": [
        "from collections import deque\n",
        "from rich.console import Console\n",
        "from rich.table import Table\n",
        "\n",
        "console = Console()\n",
        "\n",
        "\n",
        "def prefix_to_postfix(s: str) -> str:\n",
        "  stack = deque()\n",
        "\n",
        "  table = Table(title='Prefix to Postfix')\n",
        "  table.add_column('Character')\n",
        "  table.add_column('Stack')\n",
        "\n",
        "  for char in s[::-1]:\n",
        "    if is_operand(char):\n",
        "      stack.append(char)\n",
        "    else:\n",
        "      a = stack.pop()\n",
        "      b = stack.pop()\n",
        "      stack.append(f'{a}{b}{char}')\n",
        "\n",
        "    table.add_row(char, join_sequence_to_string(stack))\n",
        "\n",
        "  console.print(table)\n",
        "\n",
        "  return stack.pop()\n",
        "\n",
        "prefix_to_postfix(PREFIX_EXPRESSION)"
      ]
    },
    {
      "cell_type": "markdown",
      "metadata": {
        "id": "jQrWnGhBA1q5"
      },
      "source": [
        "## 3. Min Stack"
      ]
    },
    {
      "cell_type": "code",
      "source": [
        "MIN_STACK_COMMAND = 'PUSH 12, PUSH 14, PUSH 10, MIN, POP, MIN, POP, MIN'"
      ],
      "metadata": {
        "id": "hdYc_I9Kmdtu"
      },
      "execution_count": 12,
      "outputs": []
    },
    {
      "cell_type": "code",
      "execution_count": 13,
      "metadata": {
        "id": "pEEnH3E7CR_U"
      },
      "outputs": [],
      "source": [
        "from collections import deque\n",
        "from rich.console import Console\n",
        "from rich.table import Table\n",
        "\n",
        "console = Console()\n",
        "\n",
        "\n",
        "def stack_driver(stack, command):\n",
        "  operations = map(lambda operation: operation.strip() + ' ', command.split(','))\n",
        "\n",
        "  table = Table(title='Stack Driver')\n",
        "  table.add_column('Operation')\n",
        "  table.add_column('Stack')\n",
        "  table.add_column('Output')\n",
        "\n",
        "  for operation in operations:\n",
        "    func, *args = operation.split(' ')\n",
        "    if func == 'PUSH':\n",
        "      stack.push(int(args[0]))\n",
        "      output = ''\n",
        "    elif func == 'POP':\n",
        "      output = str(stack.pop())\n",
        "    elif func == 'PEEK':\n",
        "      output = str(stack.peek())\n",
        "    elif func == 'MIN':\n",
        "      output = str(stack.min())\n",
        "    elif func == 'SIZE':\n",
        "      output = str(stack.size())\n",
        "    elif func == 'EMPTY':\n",
        "      output = str(stack.empty())\n",
        "\n",
        "    table.add_row(operation.strip(), join_sequence_to_string(stack._items), output)\n",
        "\n",
        "  console.print(table)"
      ]
    },
    {
      "cell_type": "markdown",
      "source": [
        "### 3.1. By Storing Elements as Pairs `(value, current_minimum)`"
      ],
      "metadata": {
        "id": "btXaWOxW8xvE"
      }
    },
    {
      "cell_type": "code",
      "execution_count": 14,
      "metadata": {
        "id": "i7A2fizABphW",
        "colab": {
          "base_uri": "https://localhost:8080/",
          "height": 232
        },
        "outputId": "304f0f59-d847-41d1-ad23-9d0584513a4a"
      },
      "outputs": [
        {
          "output_type": "display_data",
          "data": {
            "text/plain": [
              "\u001b[3m                   Stack Driver                    \u001b[0m\n",
              "┏━━━━━━━━━━━┳━━━━━━━━━━━━━━━━━━━━━━━━━━━━┳━━━━━━━━┓\n",
              "┃\u001b[1m \u001b[0m\u001b[1mOperation\u001b[0m\u001b[1m \u001b[0m┃\u001b[1m \u001b[0m\u001b[1mStack                     \u001b[0m\u001b[1m \u001b[0m┃\u001b[1m \u001b[0m\u001b[1mOutput\u001b[0m\u001b[1m \u001b[0m┃\n",
              "┡━━━━━━━━━━━╇━━━━━━━━━━━━━━━━━━━━━━━━━━━━╇━━━━━━━━┩\n",
              "│ PUSH 12   │ (12, 12)                   │        │\n",
              "│ PUSH 14   │ (12, 12) (14, 12)          │        │\n",
              "│ PUSH 10   │ (12, 12) (14, 12) (10, 10) │        │\n",
              "│ MIN       │ (12, 12) (14, 12) (10, 10) │ 10     │\n",
              "│ POP       │ (12, 12) (14, 12)          │ 10     │\n",
              "│ MIN       │ (12, 12) (14, 12)          │ 12     │\n",
              "│ POP       │ (12, 12)                   │ 14     │\n",
              "│ MIN       │ (12, 12)                   │ 12     │\n",
              "└───────────┴────────────────────────────┴────────┘\n"
            ],
            "text/html": [
              "<pre style=\"white-space:pre;overflow-x:auto;line-height:normal;font-family:Menlo,'DejaVu Sans Mono',consolas,'Courier New',monospace\"><span style=\"font-style: italic\">                   Stack Driver                    </span>\n",
              "┏━━━━━━━━━━━┳━━━━━━━━━━━━━━━━━━━━━━━━━━━━┳━━━━━━━━┓\n",
              "┃<span style=\"font-weight: bold\"> Operation </span>┃<span style=\"font-weight: bold\"> Stack                      </span>┃<span style=\"font-weight: bold\"> Output </span>┃\n",
              "┡━━━━━━━━━━━╇━━━━━━━━━━━━━━━━━━━━━━━━━━━━╇━━━━━━━━┩\n",
              "│ PUSH 12   │ (12, 12)                   │        │\n",
              "│ PUSH 14   │ (12, 12) (14, 12)          │        │\n",
              "│ PUSH 10   │ (12, 12) (14, 12) (10, 10) │        │\n",
              "│ MIN       │ (12, 12) (14, 12) (10, 10) │ 10     │\n",
              "│ POP       │ (12, 12) (14, 12)          │ 10     │\n",
              "│ MIN       │ (12, 12) (14, 12)          │ 12     │\n",
              "│ POP       │ (12, 12)                   │ 14     │\n",
              "│ MIN       │ (12, 12)                   │ 12     │\n",
              "└───────────┴────────────────────────────┴────────┘\n",
              "</pre>\n"
            ]
          },
          "metadata": {}
        }
      ],
      "source": [
        "from collections import deque\n",
        "\n",
        "\n",
        "class MinStack:\n",
        "    def __init__(self):\n",
        "        self._items = deque()\n",
        "\n",
        "    def size(self) -> int:\n",
        "        return len(self._items)\n",
        "\n",
        "    def empty(self) -> bool:\n",
        "        return not self._items\n",
        "\n",
        "    def push(self, x: int) -> None:\n",
        "        self._items.append((x, min(x, self._items[-1][1]) if self._items else x))\n",
        "\n",
        "    def pop(self) -> int | None:\n",
        "        if self.empty():\n",
        "            return None\n",
        "        return self._items.pop()[0]\n",
        "\n",
        "    def peek(self) -> int | None:\n",
        "        if self.empty():\n",
        "            return None\n",
        "        return self._items[-1][0]\n",
        "\n",
        "    def min(self) -> int | None:\n",
        "        if self.empty():\n",
        "            return None\n",
        "        return self._items[-1][1]\n",
        "\n",
        "\n",
        "stack_driver(MinStack(), MIN_STACK_COMMAND)"
      ]
    },
    {
      "cell_type": "markdown",
      "source": [
        "### 3.2. By Storing Elements According to Formula"
      ],
      "metadata": {
        "id": "pBplh6cf9HJp"
      }
    },
    {
      "cell_type": "code",
      "execution_count": 15,
      "metadata": {
        "id": "qmpM9v5QEFXT",
        "colab": {
          "base_uri": "https://localhost:8080/",
          "height": 232
        },
        "outputId": "bde22c9f-21a6-4e8a-a8b6-11773abf8f15"
      },
      "outputs": [
        {
          "output_type": "display_data",
          "data": {
            "text/plain": [
              "\u001b[3m           Stack Driver           \u001b[0m\n",
              "┏━━━━━━━━━━━┳━━━━━━━━━━━┳━━━━━━━━┓\n",
              "┃\u001b[1m \u001b[0m\u001b[1mOperation\u001b[0m\u001b[1m \u001b[0m┃\u001b[1m \u001b[0m\u001b[1mStack    \u001b[0m\u001b[1m \u001b[0m┃\u001b[1m \u001b[0m\u001b[1mOutput\u001b[0m\u001b[1m \u001b[0m┃\n",
              "┡━━━━━━━━━━━╇━━━━━━━━━━━╇━━━━━━━━┩\n",
              "│ PUSH 12   │ -inf      │        │\n",
              "│ PUSH 14   │ -inf 14   │        │\n",
              "│ PUSH 10   │ -inf 14 8 │        │\n",
              "│ MIN       │ -inf 14 8 │ 10     │\n",
              "│ POP       │ -inf 14   │ 10     │\n",
              "│ MIN       │ -inf 14   │ 12     │\n",
              "│ POP       │ -inf      │ 14     │\n",
              "│ MIN       │ -inf      │ 12     │\n",
              "└───────────┴───────────┴────────┘\n"
            ],
            "text/html": [
              "<pre style=\"white-space:pre;overflow-x:auto;line-height:normal;font-family:Menlo,'DejaVu Sans Mono',consolas,'Courier New',monospace\"><span style=\"font-style: italic\">           Stack Driver           </span>\n",
              "┏━━━━━━━━━━━┳━━━━━━━━━━━┳━━━━━━━━┓\n",
              "┃<span style=\"font-weight: bold\"> Operation </span>┃<span style=\"font-weight: bold\"> Stack     </span>┃<span style=\"font-weight: bold\"> Output </span>┃\n",
              "┡━━━━━━━━━━━╇━━━━━━━━━━━╇━━━━━━━━┩\n",
              "│ PUSH 12   │ -inf      │        │\n",
              "│ PUSH 14   │ -inf 14   │        │\n",
              "│ PUSH 10   │ -inf 14 8 │        │\n",
              "│ MIN       │ -inf 14 8 │ 10     │\n",
              "│ POP       │ -inf 14   │ 10     │\n",
              "│ MIN       │ -inf 14   │ 12     │\n",
              "│ POP       │ -inf      │ 14     │\n",
              "│ MIN       │ -inf      │ 12     │\n",
              "└───────────┴───────────┴────────┘\n",
              "</pre>\n"
            ]
          },
          "metadata": {}
        }
      ],
      "source": [
        "class MinStackV2:\n",
        "  def __init__(self):\n",
        "    self._items = deque()\n",
        "    self._min = float('inf')\n",
        "\n",
        "  def size(self) -> int:\n",
        "    return len(self._items)\n",
        "\n",
        "  def empty(self) -> bool:\n",
        "    return not self._items\n",
        "\n",
        "  def push(self, x: int) -> None:\n",
        "    if x < self._min:\n",
        "      new_val = 2 * x - self._min\n",
        "      self._min = x\n",
        "    else:\n",
        "      new_val = x\n",
        "    self._items.append(new_val)\n",
        "\n",
        "  def pop(self) -> int | None:\n",
        "    if self.empty():\n",
        "      return None\n",
        "    popped = self._items.pop()\n",
        "    if popped < self._min:\n",
        "      prev_min = 2 * self._min - popped\n",
        "      popped = self._min\n",
        "      self._min = prev_min\n",
        "    return popped\n",
        "\n",
        "  def peek(self) -> int | None:\n",
        "    if self.empty():\n",
        "      return None\n",
        "    return max(self._items[-1], self._min)\n",
        "\n",
        "  def min(self) -> int | None:\n",
        "    if self.empty():\n",
        "      return None\n",
        "    return self._min\n",
        "\n",
        "\n",
        "stack_driver(MinStackV2(), MIN_STACK_COMMAND)"
      ]
    },
    {
      "cell_type": "markdown",
      "metadata": {
        "id": "_7S0IH97IGAA"
      },
      "source": [
        "## 4. Next and Previous Greater and Smaller Elements"
      ]
    },
    {
      "cell_type": "code",
      "execution_count": 16,
      "metadata": {
        "colab": {
          "base_uri": "https://localhost:8080/"
        },
        "id": "BtFadkORIQML",
        "outputId": "fdd50a00-1471-442b-cd1a-aa18e89d6dc5"
      },
      "outputs": [
        {
          "output_type": "stream",
          "name": "stdout",
          "text": [
            "[5, 10, 10, -1, -1]\n",
            "[5, 10, 10, -1, 10]\n",
            "[5, 10, 10, -1, -1]\n",
            "[5, 10, 10, -1, 10]\n"
          ]
        }
      ],
      "source": [
        "from collections import deque\n",
        "\n",
        "\n",
        "def nge_brute_force(arr: list[int]) -> list[int]:\n",
        "  nge = [-1] * len(arr)\n",
        "\n",
        "  n = len(arr)\n",
        "  for i in range(n):\n",
        "    for j in range(i + 1, n):\n",
        "      if arr[j] > arr[i]:\n",
        "        nge[i] = arr[j]\n",
        "        break\n",
        "\n",
        "  return nge\n",
        "\n",
        "def nge_brute_force_circular(arr: list[int]) -> list[int]:\n",
        "  nge = [-1] * len(arr)\n",
        "\n",
        "  n = len(arr)\n",
        "  for i in range(n):\n",
        "    for j in range(i + 1, i + n):\n",
        "      j_hypothetical = j % n\n",
        "      if arr[j_hypothetical] > arr[i]:\n",
        "        nge[i] = arr[j_hypothetical]\n",
        "        break\n",
        "\n",
        "  return nge\n",
        "\n",
        "def nge_stack(arr: list[int]) -> list[int]:\n",
        "  nge = [-1] * len(arr)\n",
        "  stack = deque()\n",
        "\n",
        "  n = len(arr)\n",
        "  for i in range(n - 1, -1, -1):\n",
        "    while stack and stack[-1] <= arr[i]:\n",
        "      stack.pop()\n",
        "    if stack:\n",
        "      nge[i] = stack[-1]\n",
        "    stack.append(arr[i])\n",
        "\n",
        "  return nge\n",
        "\n",
        "def nge_stack_circular(arr: list[int]) -> list[int]:\n",
        "  nge = [-1] * len(arr)\n",
        "  stack = deque()\n",
        "\n",
        "  n = len(arr)\n",
        "  for i in range(2 * n - 1, -1, -1):\n",
        "    i_hypothetical = i % n\n",
        "    while stack and stack[-1] <= arr[i_hypothetical]:\n",
        "      stack.pop()\n",
        "    if stack and i < n:\n",
        "      nge[i_hypothetical] = stack[-1]\n",
        "    stack.append(arr[i_hypothetical])\n",
        "\n",
        "  return nge\n",
        "\n",
        "arr = [4, 5, 2, 10, 8]\n",
        "print(nge_brute_force(arr))\n",
        "print(nge_brute_force_circular(arr))\n",
        "print(nge_stack(arr))\n",
        "print(nge_stack_circular(arr))"
      ]
    },
    {
      "cell_type": "code",
      "execution_count": 17,
      "metadata": {
        "colab": {
          "base_uri": "https://localhost:8080/"
        },
        "id": "ia_ctKz-IZW1",
        "outputId": "18a1af7d-01df-414c-d75a-3fb2cda04c60"
      },
      "outputs": [
        {
          "output_type": "stream",
          "name": "stdout",
          "text": [
            "[-1, 4, -1, 2, 2]\n",
            "[2, 4, -1, 2, 2]\n",
            "[-1, 4, -1, 2, 2]\n",
            "[2, 4, -1, 2, 2]\n"
          ]
        }
      ],
      "source": [
        "from collections import deque\n",
        "\n",
        "\n",
        "def pse_brute_force(arr: list[int]) -> list[int]:\n",
        "  pse = [-1] * len(arr)\n",
        "\n",
        "  n = len(arr)\n",
        "  for i in range(n):\n",
        "    for j in range(i - 1, -1, -1):\n",
        "      if arr[j] < arr[i]:\n",
        "        pse[i] = arr[j]\n",
        "        break\n",
        "\n",
        "  return pse\n",
        "\n",
        "def pse_brute_force_circular(arr: list[int]) -> list[int]:\n",
        "  pse = [-1] * len(arr)\n",
        "\n",
        "  n = len(arr)\n",
        "  for i in range(n):\n",
        "    for j in range(i - 1, i - n + 1, -1):\n",
        "      j_hypothetical = j % n\n",
        "      if arr[j_hypothetical] < arr[i]:\n",
        "        pse[i] = arr[j_hypothetical]\n",
        "        break\n",
        "\n",
        "  return pse\n",
        "\n",
        "def pse_stack(arr: list[int]) -> list[int]:\n",
        "  pse = [-1] * len(arr)\n",
        "  stack = deque()\n",
        "\n",
        "  n = len(arr)\n",
        "  for i in range(n):\n",
        "    while stack and stack[-1] >= arr[i]:\n",
        "      stack.pop()\n",
        "    if stack:\n",
        "      pse[i] = stack[-1]\n",
        "    stack.append(arr[i])\n",
        "\n",
        "  return pse\n",
        "\n",
        "def pse_stack_circular(arr: list[int]) -> list[int]:\n",
        "  pse = [-1] * len(arr)\n",
        "  stack = deque()\n",
        "\n",
        "  n = len(arr)\n",
        "  for i in range(2 * n):\n",
        "    i_hypothetical = i % n\n",
        "    while stack and stack[-1] >= arr[i_hypothetical]:\n",
        "      stack.pop()\n",
        "    if stack and i >= n:\n",
        "      pse[i_hypothetical] = stack[-1]\n",
        "    stack.append(arr[i_hypothetical])\n",
        "\n",
        "  return pse\n",
        "\n",
        "arr = [4, 5, 2, 10, 8]\n",
        "print(pse_brute_force(arr))\n",
        "print(pse_brute_force_circular(arr))\n",
        "print(pse_stack(arr))\n",
        "print(pse_stack_circular(arr))"
      ]
    },
    {
      "cell_type": "markdown",
      "metadata": {
        "id": "xFUx3aYIJMbU"
      },
      "source": [
        "## 5. Rainwater Trap Problem\n",
        "\n",
        "Given an array of non-negative integers representing an elevation map where the width of each bar is 1, compute how much water it can trap after raining."
      ]
    },
    {
      "cell_type": "code",
      "execution_count": 18,
      "metadata": {
        "id": "sqpVv2nbLq_9",
        "colab": {
          "base_uri": "https://localhost:8080/"
        },
        "outputId": "fa8e41bf-a850-49c2-edc5-36dd0a49cfc5"
      },
      "outputs": [
        {
          "output_type": "stream",
          "name": "stdout",
          "text": [
            "   3                            \u001b[0;30;47m    \u001b[0m                \n",
            "   2            \u001b[0;30;47m    \u001b[0m            \u001b[0;30;47m    \u001b[0m\u001b[0;30;47m    \u001b[0m    \u001b[0;30;47m    \u001b[0m    \n",
            "   1▁▁▁▁\u001b[0;30;47m    \u001b[0m▁▁▁▁\u001b[0;30;47m    \u001b[0m\u001b[0;30;47m    \u001b[0m▁▁▁▁\u001b[0;30;47m    \u001b[0m\u001b[0;30;47m    \u001b[0m\u001b[0;30;47m    \u001b[0m\u001b[0;30;47m    \u001b[0m\u001b[0;30;47m    \u001b[0m\u001b[0;30;47m    \u001b[0m\n",
            "     0   1   2   3   4   5   6   7   8   9   10  11 \n"
          ]
        }
      ],
      "source": [
        "BUILDING_HEIGHTS = [0, 1, 0, 2, 1, 0, 1, 3, 2, 1, 2, 1]\n",
        "draw_bars(BUILDING_HEIGHTS)"
      ]
    },
    {
      "cell_type": "markdown",
      "metadata": {
        "id": "pguf-O1BJj51"
      },
      "source": [
        "### 5.1. First Approach"
      ]
    },
    {
      "cell_type": "code",
      "execution_count": 19,
      "metadata": {
        "colab": {
          "base_uri": "https://localhost:8080/",
          "height": 351
        },
        "id": "wo9e1Gq3KYUN",
        "outputId": "31b1e3a1-1f3b-403e-fbe9-45593320463a"
      },
      "outputs": [
        {
          "output_type": "stream",
          "name": "stdout",
          "text": [
            "heights = [0, 1, 0, 2, 1, 0, 1, 3, 2, 1, 2, 1]\n",
            "\n"
          ]
        },
        {
          "output_type": "display_data",
          "data": {
            "text/plain": [
              "\u001b[3m                       Rainwater Trap                        \u001b[0m\n",
              "┏━━━━┳━━━┳━━━━┳━━━━┳━━━━━━━━━━━━━┳━━━━━━━━━━━━━┳━━━━━━━━━━━━┓\n",
              "┃\u001b[1m \u001b[0m\u001b[1m i\u001b[0m\u001b[1m \u001b[0m┃\u001b[1m \u001b[0m\u001b[1mh\u001b[0m\u001b[1m \u001b[0m┃\u001b[1m \u001b[0m\u001b[1mpm\u001b[0m\u001b[1m \u001b[0m┃\u001b[1m \u001b[0m\u001b[1msm\u001b[0m\u001b[1m \u001b[0m┃\u001b[1m \u001b[0m\u001b[1mmin(pm, sm)\u001b[0m\u001b[1m \u001b[0m┃\u001b[1m \u001b[0m\u001b[1md = min - h\u001b[0m\u001b[1m \u001b[0m┃\u001b[1m \u001b[0m\u001b[1mtotal += d\u001b[0m\u001b[1m \u001b[0m┃\n",
              "┡━━━━╇━━━╇━━━━╇━━━━╇━━━━━━━━━━━━━╇━━━━━━━━━━━━━╇━━━━━━━━━━━━┩\n",
              "│  0 │ 0 │  0 │  3 │           0 │           0 │          0 │\n",
              "│  1 │ 1 │  1 │  3 │           1 │           0 │          0 │\n",
              "│  2 │ 0 │  1 │  3 │           1 │           1 │          1 │\n",
              "│  3 │ 2 │  2 │  3 │           2 │           0 │          1 │\n",
              "│  4 │ 1 │  2 │  3 │           2 │           1 │          2 │\n",
              "│  5 │ 0 │  2 │  3 │           2 │           2 │          4 │\n",
              "│  6 │ 1 │  2 │  3 │           2 │           1 │          5 │\n",
              "│  7 │ 3 │  3 │  3 │           3 │           0 │          5 │\n",
              "│  8 │ 2 │  3 │  2 │           2 │           0 │          5 │\n",
              "│  9 │ 1 │  3 │  2 │           2 │           1 │          6 │\n",
              "│ 10 │ 2 │  3 │  2 │           2 │           0 │          6 │\n",
              "│ 11 │ 1 │  3 │  1 │           1 │           0 │          6 │\n",
              "└────┴───┴────┴────┴─────────────┴─────────────┴────────────┘\n"
            ],
            "text/html": [
              "<pre style=\"white-space:pre;overflow-x:auto;line-height:normal;font-family:Menlo,'DejaVu Sans Mono',consolas,'Courier New',monospace\"><span style=\"font-style: italic\">                       Rainwater Trap                        </span>\n",
              "┏━━━━┳━━━┳━━━━┳━━━━┳━━━━━━━━━━━━━┳━━━━━━━━━━━━━┳━━━━━━━━━━━━┓\n",
              "┃<span style=\"font-weight: bold\">  i </span>┃<span style=\"font-weight: bold\"> h </span>┃<span style=\"font-weight: bold\"> pm </span>┃<span style=\"font-weight: bold\"> sm </span>┃<span style=\"font-weight: bold\"> min(pm, sm) </span>┃<span style=\"font-weight: bold\"> d = min - h </span>┃<span style=\"font-weight: bold\"> total += d </span>┃\n",
              "┡━━━━╇━━━╇━━━━╇━━━━╇━━━━━━━━━━━━━╇━━━━━━━━━━━━━╇━━━━━━━━━━━━┩\n",
              "│  0 │ 0 │  0 │  3 │           0 │           0 │          0 │\n",
              "│  1 │ 1 │  1 │  3 │           1 │           0 │          0 │\n",
              "│  2 │ 0 │  1 │  3 │           1 │           1 │          1 │\n",
              "│  3 │ 2 │  2 │  3 │           2 │           0 │          1 │\n",
              "│  4 │ 1 │  2 │  3 │           2 │           1 │          2 │\n",
              "│  5 │ 0 │  2 │  3 │           2 │           2 │          4 │\n",
              "│  6 │ 1 │  2 │  3 │           2 │           1 │          5 │\n",
              "│  7 │ 3 │  3 │  3 │           3 │           0 │          5 │\n",
              "│  8 │ 2 │  3 │  2 │           2 │           0 │          5 │\n",
              "│  9 │ 1 │  3 │  2 │           2 │           1 │          6 │\n",
              "│ 10 │ 2 │  3 │  2 │           2 │           0 │          6 │\n",
              "│ 11 │ 1 │  3 │  1 │           1 │           0 │          6 │\n",
              "└────┴───┴────┴────┴─────────────┴─────────────┴────────────┘\n",
              "</pre>\n"
            ]
          },
          "metadata": {}
        },
        {
          "output_type": "execute_result",
          "data": {
            "text/plain": [
              "6"
            ]
          },
          "metadata": {},
          "execution_count": 19
        }
      ],
      "source": [
        "from rich.console import Console\n",
        "from rich.table import Table\n",
        "\n",
        "console = Console()\n",
        "\n",
        "\n",
        "def rain_water_trap_v1(heights: list[int]) -> int:\n",
        "  print('heights = ' + str(heights) + '\\n')\n",
        "\n",
        "  table = Table(title='Rainwater Trap')\n",
        "  table.add_column('i', justify='right')\n",
        "  table.add_column('h', justify='right')\n",
        "  table.add_column('pm', justify='right')\n",
        "  table.add_column('sm', justify='right')\n",
        "  table.add_column('min(pm, sm)', justify='right')\n",
        "  table.add_column('d = min - h', justify='right')\n",
        "  table.add_column('total += d', justify='right')\n",
        "\n",
        "  n = len(heights)\n",
        "\n",
        "  pm = prefix_max(heights)\n",
        "  sm = suffix_max(heights)\n",
        "\n",
        "  total = 0\n",
        "  for i in range(n):\n",
        "    total += min(pm[i], sm[i]) - heights[i]\n",
        "    table.add_row(str(i), str(heights[i]), str(pm[i]), str(sm[i]),\n",
        "                  str(min(pm[i], sm[i])), str(min(pm[i], sm[i]) - heights[i]), str(total))\n",
        "\n",
        "  console.print(table)\n",
        "\n",
        "  return total\n",
        "\n",
        "rain_water_trap_v1(BUILDING_HEIGHTS)"
      ]
    },
    {
      "cell_type": "markdown",
      "metadata": {
        "id": "VchBSr6VJ6v-"
      },
      "source": [
        "### 5.2. Second Approach"
      ]
    },
    {
      "cell_type": "code",
      "execution_count": 20,
      "metadata": {
        "colab": {
          "base_uri": "https://localhost:8080/",
          "height": 351
        },
        "id": "rkx2r6MWKboY",
        "outputId": "8ce037f6-0184-418d-8c8d-3bff5239c02a"
      },
      "outputs": [
        {
          "output_type": "stream",
          "name": "stdout",
          "text": [
            "heights = [0, 1, 0, 2, 1, 0, 1, 3, 2, 1, 2, 1]\n",
            "\n"
          ]
        },
        {
          "output_type": "display_data",
          "data": {
            "text/plain": [
              "\u001b[3m                      Rainwater Trap v2                      \u001b[0m\n",
              "┏━━━━┳━━━┳━━━━┳━━━━┳━━━━━━━━━━━━━┳━━━━━━━━━━━━━┳━━━━━━━━━━━━┓\n",
              "┃\u001b[1m \u001b[0m\u001b[1m i\u001b[0m\u001b[1m \u001b[0m┃\u001b[1m \u001b[0m\u001b[1mh\u001b[0m\u001b[1m \u001b[0m┃\u001b[1m \u001b[0m\u001b[1mpm\u001b[0m\u001b[1m \u001b[0m┃\u001b[1m \u001b[0m\u001b[1msm\u001b[0m\u001b[1m \u001b[0m┃\u001b[1m \u001b[0m\u001b[1mmin(pm, sm)\u001b[0m\u001b[1m \u001b[0m┃\u001b[1m \u001b[0m\u001b[1md = min - h\u001b[0m\u001b[1m \u001b[0m┃\u001b[1m \u001b[0m\u001b[1mtotal += d\u001b[0m\u001b[1m \u001b[0m┃\n",
              "┡━━━━╇━━━╇━━━━╇━━━━╇━━━━━━━━━━━━━╇━━━━━━━━━━━━━╇━━━━━━━━━━━━┩\n",
              "│  0 │ 0 │  0 │  3 │           0 │           0 │          0 │\n",
              "│  1 │ 1 │  1 │  3 │           1 │           0 │          0 │\n",
              "│  2 │ 0 │  1 │  3 │           1 │           1 │          1 │\n",
              "│  3 │ 2 │  2 │  3 │           2 │           0 │          1 │\n",
              "│  4 │ 1 │  2 │  3 │           2 │           1 │          2 │\n",
              "│  5 │ 0 │  2 │  3 │           2 │           2 │          4 │\n",
              "│  6 │ 1 │  2 │  3 │           2 │           1 │          5 │\n",
              "│  7 │ 3 │  3 │  3 │           3 │           0 │          5 │\n",
              "│  8 │ 2 │  3 │  2 │           2 │           0 │          5 │\n",
              "│  9 │ 1 │  3 │  2 │           2 │           1 │          6 │\n",
              "│ 10 │ 2 │  3 │  2 │           2 │           0 │          6 │\n",
              "│ 11 │ 1 │  3 │  1 │           1 │           0 │          6 │\n",
              "└────┴───┴────┴────┴─────────────┴─────────────┴────────────┘\n"
            ],
            "text/html": [
              "<pre style=\"white-space:pre;overflow-x:auto;line-height:normal;font-family:Menlo,'DejaVu Sans Mono',consolas,'Courier New',monospace\"><span style=\"font-style: italic\">                      Rainwater Trap v2                      </span>\n",
              "┏━━━━┳━━━┳━━━━┳━━━━┳━━━━━━━━━━━━━┳━━━━━━━━━━━━━┳━━━━━━━━━━━━┓\n",
              "┃<span style=\"font-weight: bold\">  i </span>┃<span style=\"font-weight: bold\"> h </span>┃<span style=\"font-weight: bold\"> pm </span>┃<span style=\"font-weight: bold\"> sm </span>┃<span style=\"font-weight: bold\"> min(pm, sm) </span>┃<span style=\"font-weight: bold\"> d = min - h </span>┃<span style=\"font-weight: bold\"> total += d </span>┃\n",
              "┡━━━━╇━━━╇━━━━╇━━━━╇━━━━━━━━━━━━━╇━━━━━━━━━━━━━╇━━━━━━━━━━━━┩\n",
              "│  0 │ 0 │  0 │  3 │           0 │           0 │          0 │\n",
              "│  1 │ 1 │  1 │  3 │           1 │           0 │          0 │\n",
              "│  2 │ 0 │  1 │  3 │           1 │           1 │          1 │\n",
              "│  3 │ 2 │  2 │  3 │           2 │           0 │          1 │\n",
              "│  4 │ 1 │  2 │  3 │           2 │           1 │          2 │\n",
              "│  5 │ 0 │  2 │  3 │           2 │           2 │          4 │\n",
              "│  6 │ 1 │  2 │  3 │           2 │           1 │          5 │\n",
              "│  7 │ 3 │  3 │  3 │           3 │           0 │          5 │\n",
              "│  8 │ 2 │  3 │  2 │           2 │           0 │          5 │\n",
              "│  9 │ 1 │  3 │  2 │           2 │           1 │          6 │\n",
              "│ 10 │ 2 │  3 │  2 │           2 │           0 │          6 │\n",
              "│ 11 │ 1 │  3 │  1 │           1 │           0 │          6 │\n",
              "└────┴───┴────┴────┴─────────────┴─────────────┴────────────┘\n",
              "</pre>\n"
            ]
          },
          "metadata": {}
        },
        {
          "output_type": "execute_result",
          "data": {
            "text/plain": [
              "6"
            ]
          },
          "metadata": {},
          "execution_count": 20
        }
      ],
      "source": [
        "from rich.console import Console\n",
        "from rich.table import Table\n",
        "\n",
        "console = Console()\n",
        "\n",
        "\n",
        "def rain_water_trap_v2(heights: list[int]) -> int:\n",
        "  print('heights = ' + str(heights) + '\\n')\n",
        "\n",
        "  table = Table(title='Rainwater Trap v2')\n",
        "  table.add_column('i', justify='right')\n",
        "  table.add_column('h', justify='right')\n",
        "  table.add_column('pm', justify='right')\n",
        "  table.add_column('sm', justify='right')\n",
        "  table.add_column('min(pm, sm)', justify='right')\n",
        "  table.add_column('d = min - h', justify='right')\n",
        "  table.add_column('total += d', justify='right')\n",
        "\n",
        "  n = len(heights)\n",
        "\n",
        "  pm = 0\n",
        "  sm = suffix_max(heights)\n",
        "\n",
        "  total = 0\n",
        "  for i in range(n):\n",
        "    h = heights[i]\n",
        "    if h > pm:\n",
        "      pm = h\n",
        "    total += min(pm, sm[i]) - h\n",
        "\n",
        "    table.add_row(str(i), str(h), str(pm), str(sm[i]),\n",
        "                  str(min(pm, sm[i])), str(min(pm, sm[i]) - h), str(total))\n",
        "\n",
        "  console.print(table)\n",
        "\n",
        "  return total\n",
        "\n",
        "rain_water_trap_v2(BUILDING_HEIGHTS)"
      ]
    },
    {
      "cell_type": "markdown",
      "metadata": {
        "id": "v2VwIpwRKILv"
      },
      "source": [
        "### 5.3. Third Approach"
      ]
    },
    {
      "cell_type": "code",
      "execution_count": 21,
      "metadata": {
        "colab": {
          "base_uri": "https://localhost:8080/",
          "height": 368
        },
        "id": "2gikpe5DJS-O",
        "outputId": "cfcd123c-f434-40ca-eef1-67ebcde4f8e6"
      },
      "outputs": [
        {
          "output_type": "stream",
          "name": "stdout",
          "text": [
            "heights = [0, 1, 0, 2, 1, 0, 1, 3, 2, 1, 2, 1]\n",
            "\n"
          ]
        },
        {
          "output_type": "display_data",
          "data": {
            "text/plain": [
              "\u001b[3m                                                 Rainwater Trap v3                                                 \u001b[0m\n",
              "┏━━━━━━┳━━━━━━━┳━━━━━━━━━┳━━━━━━━━━━┳━━━━━━━━━━━━━━━┳━━━━━━━━━━━━━━━┳━━━━━━━━━━━━━━━┳━━━━━━━━━━━━━━━━┳━━━━━━━━━━━━┓\n",
              "┃\u001b[1m      \u001b[0m┃\u001b[1m       \u001b[0m┃\u001b[1m         \u001b[0m┃\u001b[1m          \u001b[0m┃\u001b[1m \u001b[0m\u001b[1m pm = max(pm,\u001b[0m\u001b[1m \u001b[0m┃\u001b[1m \u001b[0m\u001b[1m sm = max(sm,\u001b[0m\u001b[1m \u001b[0m┃\u001b[1m \u001b[0m\u001b[1m d(left) = pm\u001b[0m\u001b[1m \u001b[0m┃\u001b[1m \u001b[0m\u001b[1m d(right) = sm\u001b[0m\u001b[1m \u001b[0m┃\u001b[1m            \u001b[0m┃\n",
              "┃\u001b[1m \u001b[0m\u001b[1mleft\u001b[0m\u001b[1m \u001b[0m┃\u001b[1m \u001b[0m\u001b[1mright\u001b[0m\u001b[1m \u001b[0m┃\u001b[1m \u001b[0m\u001b[1mh(left)\u001b[0m\u001b[1m \u001b[0m┃\u001b[1m \u001b[0m\u001b[1mh(right)\u001b[0m\u001b[1m \u001b[0m┃\u001b[1m \u001b[0m\u001b[1m     h(left))\u001b[0m\u001b[1m \u001b[0m┃\u001b[1m \u001b[0m\u001b[1m    h(right))\u001b[0m\u001b[1m \u001b[0m┃\u001b[1m \u001b[0m\u001b[1m    - h(left)\u001b[0m\u001b[1m \u001b[0m┃\u001b[1m \u001b[0m\u001b[1m    - h(right)\u001b[0m\u001b[1m \u001b[0m┃\u001b[1m \u001b[0m\u001b[1mtotal += d\u001b[0m\u001b[1m \u001b[0m┃\n",
              "┡━━━━━━╇━━━━━━━╇━━━━━━━━━╇━━━━━━━━━━╇━━━━━━━━━━━━━━━╇━━━━━━━━━━━━━━━╇━━━━━━━━━━━━━━━╇━━━━━━━━━━━━━━━━╇━━━━━━━━━━━━┩\n",
              "│    0 │    11 │       0 │        1 │             0 │             1 │             - │              - │          0 │\n",
              "│    1 │    11 │       1 │        1 │             1 │             1 │             - │              - │          0 │\n",
              "│    2 │    11 │       0 │        1 │             1 │             1 │             1 │              - │          1 │\n",
              "│    3 │    11 │       2 │        1 │             2 │             1 │             - │              - │          1 │\n",
              "│    3 │    10 │       2 │        2 │             2 │             2 │             - │              - │          1 │\n",
              "│    4 │    10 │       1 │        2 │             2 │             2 │             1 │              - │          2 │\n",
              "│    5 │    10 │       0 │        2 │             2 │             2 │             2 │              - │          4 │\n",
              "│    6 │    10 │       1 │        2 │             2 │             2 │             1 │              - │          5 │\n",
              "│    7 │    10 │       3 │        2 │             3 │             2 │             - │              - │          5 │\n",
              "│    7 │     9 │       3 │        1 │             3 │             2 │             - │              1 │          6 │\n",
              "│    7 │     8 │       3 │        2 │             3 │             2 │             - │              - │          6 │\n",
              "│    7 │     7 │       3 │        3 │             3 │             3 │             - │              - │          6 │\n",
              "└──────┴───────┴─────────┴──────────┴───────────────┴───────────────┴───────────────┴────────────────┴────────────┘\n"
            ],
            "text/html": [
              "<pre style=\"white-space:pre;overflow-x:auto;line-height:normal;font-family:Menlo,'DejaVu Sans Mono',consolas,'Courier New',monospace\"><span style=\"font-style: italic\">                                                 Rainwater Trap v3                                                 </span>\n",
              "┏━━━━━━┳━━━━━━━┳━━━━━━━━━┳━━━━━━━━━━┳━━━━━━━━━━━━━━━┳━━━━━━━━━━━━━━━┳━━━━━━━━━━━━━━━┳━━━━━━━━━━━━━━━━┳━━━━━━━━━━━━┓\n",
              "┃<span style=\"font-weight: bold\">      </span>┃<span style=\"font-weight: bold\">       </span>┃<span style=\"font-weight: bold\">         </span>┃<span style=\"font-weight: bold\">          </span>┃<span style=\"font-weight: bold\">  pm = max(pm, </span>┃<span style=\"font-weight: bold\">  sm = max(sm, </span>┃<span style=\"font-weight: bold\">  d(left) = pm </span>┃<span style=\"font-weight: bold\">  d(right) = sm </span>┃<span style=\"font-weight: bold\">            </span>┃\n",
              "┃<span style=\"font-weight: bold\"> left </span>┃<span style=\"font-weight: bold\"> right </span>┃<span style=\"font-weight: bold\"> h(left) </span>┃<span style=\"font-weight: bold\"> h(right) </span>┃<span style=\"font-weight: bold\">      h(left)) </span>┃<span style=\"font-weight: bold\">     h(right)) </span>┃<span style=\"font-weight: bold\">     - h(left) </span>┃<span style=\"font-weight: bold\">     - h(right) </span>┃<span style=\"font-weight: bold\"> total += d </span>┃\n",
              "┡━━━━━━╇━━━━━━━╇━━━━━━━━━╇━━━━━━━━━━╇━━━━━━━━━━━━━━━╇━━━━━━━━━━━━━━━╇━━━━━━━━━━━━━━━╇━━━━━━━━━━━━━━━━╇━━━━━━━━━━━━┩\n",
              "│    0 │    11 │       0 │        1 │             0 │             1 │             - │              - │          0 │\n",
              "│    1 │    11 │       1 │        1 │             1 │             1 │             - │              - │          0 │\n",
              "│    2 │    11 │       0 │        1 │             1 │             1 │             1 │              - │          1 │\n",
              "│    3 │    11 │       2 │        1 │             2 │             1 │             - │              - │          1 │\n",
              "│    3 │    10 │       2 │        2 │             2 │             2 │             - │              - │          1 │\n",
              "│    4 │    10 │       1 │        2 │             2 │             2 │             1 │              - │          2 │\n",
              "│    5 │    10 │       0 │        2 │             2 │             2 │             2 │              - │          4 │\n",
              "│    6 │    10 │       1 │        2 │             2 │             2 │             1 │              - │          5 │\n",
              "│    7 │    10 │       3 │        2 │             3 │             2 │             - │              - │          5 │\n",
              "│    7 │     9 │       3 │        1 │             3 │             2 │             - │              1 │          6 │\n",
              "│    7 │     8 │       3 │        2 │             3 │             2 │             - │              - │          6 │\n",
              "│    7 │     7 │       3 │        3 │             3 │             3 │             - │              - │          6 │\n",
              "└──────┴───────┴─────────┴──────────┴───────────────┴───────────────┴───────────────┴────────────────┴────────────┘\n",
              "</pre>\n"
            ]
          },
          "metadata": {}
        },
        {
          "output_type": "execute_result",
          "data": {
            "text/plain": [
              "6"
            ]
          },
          "metadata": {},
          "execution_count": 21
        }
      ],
      "source": [
        "from rich.console import Console\n",
        "from rich.table import Table\n",
        "\n",
        "console = Console()\n",
        "\n",
        "\n",
        "def rain_water_trap_v3(heights: list[int]):\n",
        "  print('heights = ' + str(heights) + '\\n')\n",
        "\n",
        "  table = Table(title='Rainwater Trap v3')\n",
        "  table.add_column('left', justify='right')\n",
        "  table.add_column('right', justify='right')\n",
        "  table.add_column('h(left)', justify='right')\n",
        "  table.add_column('h(right)', justify='right')\n",
        "  table.add_column('pm = max(pm, h(left))', justify='right')\n",
        "  table.add_column('sm = max(sm, h(right))', justify='right')\n",
        "  table.add_column('d(left) = pm - h(left)', justify='right')\n",
        "  table.add_column('d(right) = sm - h(right)', justify='right')\n",
        "  table.add_column('total += d', justify='right')\n",
        "\n",
        "  n = len(heights)\n",
        "\n",
        "  left = 0\n",
        "  right = n - 1\n",
        "\n",
        "  pm = heights[left]\n",
        "  sm = heights[right]\n",
        "\n",
        "  total = 0\n",
        "\n",
        "  table.add_row(str(left), str(right), str(heights[left]), str(heights[right]),\n",
        "                str(pm), str(sm), '-', '-', str(total))\n",
        "\n",
        "  while left < right:\n",
        "    if pm <= sm:\n",
        "      left += 1\n",
        "      if heights[left] < pm:\n",
        "        total += pm - heights[left]\n",
        "        table.add_row(str(left), str(right), str(heights[left]), str(heights[right]),\n",
        "                        str(pm), str(sm), str(pm - heights[left]), '-', str(total))\n",
        "      else:\n",
        "        pm = heights[left]\n",
        "        table.add_row(str(left), str(right), str(heights[left]), str(heights[right]),\n",
        "                        str(pm), str(sm), '-', '-', str(total))\n",
        "\n",
        "    else:\n",
        "      right -= 1\n",
        "      if heights[right] < sm:\n",
        "        total += sm - heights[right]\n",
        "        table.add_row(str(left), str(right), str(heights[left]), str(heights[right]),\n",
        "                        str(pm), str(sm), '-', str(sm - heights[right]), str(total))\n",
        "      else:\n",
        "        sm = heights[right]\n",
        "        table.add_row(str(left), str(right), str(heights[left]), str(heights[right]),\n",
        "                        str(pm), str(sm), '-', '-', str(total))\n",
        "\n",
        "  console.print(table)\n",
        "\n",
        "  return total\n",
        "\n",
        "rain_water_trap_v3(BUILDING_HEIGHTS)"
      ]
    },
    {
      "cell_type": "markdown",
      "metadata": {
        "id": "rzCPljheOKia"
      },
      "source": [
        "## 6. Subarray Min, Max, and Range Sums"
      ]
    },
    {
      "cell_type": "markdown",
      "metadata": {
        "id": "QrYiXu9VNUMv"
      },
      "source": [
        "### 6.1. Subarray Minimum and Maximum Sum Problem"
      ]
    },
    {
      "cell_type": "code",
      "execution_count": 22,
      "metadata": {
        "colab": {
          "base_uri": "https://localhost:8080/"
        },
        "id": "A8cH7jfTNRnN",
        "outputId": "dffe5b48-469d-4ceb-e850-31b4e4566b8d"
      },
      "outputs": [
        {
          "output_type": "stream",
          "name": "stdout",
          "text": [
            "17\n",
            "30\n"
          ]
        }
      ],
      "source": [
        "def subarray_minimum_sum(arr: list[int]) -> int:\n",
        "  n = len(arr)\n",
        "\n",
        "  left = pse_indices(arr)\n",
        "  right = nse_indices(arr)\n",
        "\n",
        "  min_total = 0\n",
        "\n",
        "  for i in range(n):\n",
        "    left_dist = i - left[i]\n",
        "    right_dist = right[i] - i\n",
        "\n",
        "    min_total += arr[i] * left_dist * right_dist\n",
        "\n",
        "  return min_total\n",
        "\n",
        "\n",
        "def subarray_maximum_sum(arr: list[int]) -> int:\n",
        "  n = len(arr)\n",
        "\n",
        "  left = pge_indices(arr)\n",
        "  right = nge_indices(arr)\n",
        "\n",
        "  max_total = 0\n",
        "\n",
        "  for i in range(n):\n",
        "    left_dist = i - left[i]\n",
        "    right_dist = right[i] - i\n",
        "\n",
        "    max_total += arr[i] * left_dist * right_dist\n",
        "\n",
        "  return max_total\n",
        "\n",
        "\n",
        "print(subarray_minimum_sum([3, 1, 2, 4]))\n",
        "print(subarray_maximum_sum([3, 1, 2, 4]))"
      ]
    },
    {
      "cell_type": "markdown",
      "metadata": {
        "id": "fPG3KWP0MlN3"
      },
      "source": [
        "### 6.2. Subarray Range Sum"
      ]
    },
    {
      "cell_type": "code",
      "execution_count": 23,
      "metadata": {
        "colab": {
          "base_uri": "https://localhost:8080/"
        },
        "id": "9wmVwYVlMo-T",
        "outputId": "dc649dc9-35e1-49be-b5b9-b21d2d08b93f"
      },
      "outputs": [
        {
          "output_type": "stream",
          "name": "stdout",
          "text": [
            "13\n",
            "13\n"
          ]
        }
      ],
      "source": [
        "def subarray_ranges_sum_brute_force(arr: list[int]) -> int:\n",
        "  n = len(arr)\n",
        "\n",
        "  total = 0\n",
        "  for i in range(n):\n",
        "    minimum = maximum = arr[i]\n",
        "    for j in range(i + 1, n):\n",
        "      if arr[j] < minimum:\n",
        "        minimum = arr[j]\n",
        "      if arr[j] > maximum:\n",
        "        maximum = arr[j]\n",
        "      total += maximum - minimum\n",
        "\n",
        "  return total\n",
        "\n",
        "\n",
        "def subarray_ranges_sum_optimized(arr: list[int]) -> int:\n",
        "  return subarray_maximum_sum(arr) - subarray_minimum_sum(arr)\n",
        "\n",
        "\n",
        "print(subarray_ranges_sum_brute_force([3, 1, 2, 4]))\n",
        "print(subarray_ranges_sum_optimized([3, 1, 2, 4]))\n"
      ]
    },
    {
      "cell_type": "markdown",
      "metadata": {
        "id": "TwtSxx4IPJWW"
      },
      "source": [
        "## 7. Asteroid Collision Problem"
      ]
    },
    {
      "cell_type": "code",
      "source": [
        "ASTEROID_INITIAL_STATE = [4, 7, 1, 1, 2, -3, -7, 17, 15, -16]"
      ],
      "metadata": {
        "id": "ODyGzDz5C_dy"
      },
      "execution_count": 24,
      "outputs": []
    },
    {
      "cell_type": "code",
      "execution_count": 25,
      "metadata": {
        "colab": {
          "base_uri": "https://localhost:8080/",
          "height": 282
        },
        "id": "zEk9qHcqRV7b",
        "outputId": "5c8bee28-e1b0-46c2-8183-03f3f2b6e53d"
      },
      "outputs": [
        {
          "output_type": "display_data",
          "data": {
            "text/plain": [
              "\u001b[3m   Asteroid Collision   \u001b[0m\n",
              "┏━━━━━━━━━━┳━━━━━━━━━━━┓\n",
              "┃\u001b[1m \u001b[0m\u001b[1masteroid\u001b[0m\u001b[1m \u001b[0m┃\u001b[1m \u001b[0m\u001b[1mstack    \u001b[0m\u001b[1m \u001b[0m┃\n",
              "┡━━━━━━━━━━╇━━━━━━━━━━━┩\n",
              "│        4 │ 4         │\n",
              "│        7 │ 4 7       │\n",
              "│        1 │ 4 7 1     │\n",
              "│        1 │ 4 7 1 1   │\n",
              "│        2 │ 4 7 1 1 2 │\n",
              "│       -3 │ 4 7       │\n",
              "│       -7 │ 4         │\n",
              "│       17 │ 4 17      │\n",
              "│       15 │ 4 17 15   │\n",
              "│      -16 │ 4 17      │\n",
              "└──────────┴───────────┘\n"
            ],
            "text/html": [
              "<pre style=\"white-space:pre;overflow-x:auto;line-height:normal;font-family:Menlo,'DejaVu Sans Mono',consolas,'Courier New',monospace\"><span style=\"font-style: italic\">   Asteroid Collision   </span>\n",
              "┏━━━━━━━━━━┳━━━━━━━━━━━┓\n",
              "┃<span style=\"font-weight: bold\"> asteroid </span>┃<span style=\"font-weight: bold\"> stack     </span>┃\n",
              "┡━━━━━━━━━━╇━━━━━━━━━━━┩\n",
              "│        4 │ 4         │\n",
              "│        7 │ 4 7       │\n",
              "│        1 │ 4 7 1     │\n",
              "│        1 │ 4 7 1 1   │\n",
              "│        2 │ 4 7 1 1 2 │\n",
              "│       -3 │ 4 7       │\n",
              "│       -7 │ 4         │\n",
              "│       17 │ 4 17      │\n",
              "│       15 │ 4 17 15   │\n",
              "│      -16 │ 4 17      │\n",
              "└──────────┴───────────┘\n",
              "</pre>\n"
            ]
          },
          "metadata": {}
        },
        {
          "output_type": "execute_result",
          "data": {
            "text/plain": [
              "[4, 17]"
            ]
          },
          "metadata": {},
          "execution_count": 25
        }
      ],
      "source": [
        "from collections import deque\n",
        "from rich.console import Console\n",
        "from rich.table import Table\n",
        "\n",
        "console = Console()\n",
        "\n",
        "\n",
        "def asteroid_simluation(asteroids: list[int]) -> list[int]:\n",
        "  table = Table(title=f\"Asteroid Collision\")\n",
        "  table.add_column('asteroid', justify='right')\n",
        "  table.add_column('stack')\n",
        "\n",
        "  n = len(asteroids)\n",
        "\n",
        "  stack = deque()\n",
        "\n",
        "  for asteroid in asteroids:\n",
        "\n",
        "    if not stack or asteroid > 0:\n",
        "      stack.append(asteroid)\n",
        "\n",
        "    else:\n",
        "      while stack and stack[-1] > 0 and stack[-1] < -asteroid:\n",
        "        stack.pop()\n",
        "      if stack and stack[-1] == -asteroid:\n",
        "        stack.pop()\n",
        "      elif not stack or stack[-1] < 0:\n",
        "        stack.append(asteroid)\n",
        "\n",
        "    table.add_row(str(asteroid), join_sequence_to_string(stack))\n",
        "\n",
        "  console.print(table)\n",
        "\n",
        "  return list(stack)\n",
        "\n",
        "\n",
        "asteroid_simluation(ASTEROID_INITIAL_STATE)\n"
      ]
    },
    {
      "cell_type": "markdown",
      "metadata": {
        "id": "Yx2YIIV-a9Ai"
      },
      "source": [
        "## 8. Largest Rectangle In Histogram"
      ]
    },
    {
      "cell_type": "code",
      "execution_count": 26,
      "metadata": {
        "colab": {
          "base_uri": "https://localhost:8080/"
        },
        "id": "PxHrZ408fUAl",
        "outputId": "a3b62c82-4271-4b9f-f41c-47b4e0ad57a7"
      },
      "outputs": [
        {
          "output_type": "stream",
          "name": "stdout",
          "text": [
            "  11            \u001b[0;30;47m    \u001b[0m                \n",
            "  10        \u001b[0;30;47m    \u001b[0m\u001b[0;30;47m    \u001b[0m    \u001b[0;30;47m    \u001b[0m        \n",
            "   9        \u001b[0;30;47m    \u001b[0m\u001b[0;30;47m    \u001b[0m    \u001b[0;30;47m    \u001b[0m        \n",
            "   8        \u001b[0;30;47m    \u001b[0m\u001b[0;30;47m    \u001b[0m    \u001b[0;30;47m    \u001b[0m        \n",
            "   7        \u001b[0;30;47m    \u001b[0m\u001b[0;30;47m    \u001b[0m    \u001b[0;30;47m    \u001b[0m        \n",
            "   6        \u001b[0;30;47m    \u001b[0m\u001b[0;30;47m    \u001b[0m    \u001b[0;30;47m    \u001b[0m\u001b[0;30;47m    \u001b[0m    \n",
            "   5        \u001b[0;30;47m    \u001b[0m\u001b[0;30;47m    \u001b[0m\u001b[0;30;47m    \u001b[0m\u001b[0;30;47m    \u001b[0m\u001b[0;30;47m    \u001b[0m    \n",
            "   4        \u001b[0;30;47m    \u001b[0m\u001b[0;30;47m    \u001b[0m\u001b[0;30;47m    \u001b[0m\u001b[0;30;47m    \u001b[0m\u001b[0;30;47m    \u001b[0m    \n",
            "   3\u001b[0;30;47m    \u001b[0m    \u001b[0;30;47m    \u001b[0m\u001b[0;30;47m    \u001b[0m\u001b[0;30;47m    \u001b[0m\u001b[0;30;47m    \u001b[0m\u001b[0;30;47m    \u001b[0m\u001b[0;30;47m    \u001b[0m\n",
            "   2\u001b[0;30;47m    \u001b[0m\u001b[0;30;47m    \u001b[0m\u001b[0;30;47m    \u001b[0m\u001b[0;30;47m    \u001b[0m\u001b[0;30;47m    \u001b[0m\u001b[0;30;47m    \u001b[0m\u001b[0;30;47m    \u001b[0m\u001b[0;30;47m    \u001b[0m\n",
            "   1\u001b[0;30;47m    \u001b[0m\u001b[0;30;47m    \u001b[0m\u001b[0;30;47m    \u001b[0m\u001b[0;30;47m    \u001b[0m\u001b[0;30;47m    \u001b[0m\u001b[0;30;47m    \u001b[0m\u001b[0;30;47m    \u001b[0m\u001b[0;30;47m    \u001b[0m\n",
            "     0   1   2   3   4   5   6   7  \n"
          ]
        }
      ],
      "source": [
        "HISTOGRAM_BAR_HEIGHTS = [3, 2, 10, 11, 5, 10, 6, 3]\n",
        "\n",
        "draw_bars(HISTOGRAM_BAR_HEIGHTS)"
      ]
    },
    {
      "cell_type": "markdown",
      "metadata": {
        "id": "O01hNG3YLXh9"
      },
      "source": [
        "### 8.1. Using PSE and NSE"
      ]
    },
    {
      "cell_type": "code",
      "execution_count": 27,
      "metadata": {
        "colab": {
          "base_uri": "https://localhost:8080/",
          "height": 249
        },
        "id": "xfPghqn1bCo-",
        "outputId": "fd773036-9660-4c63-ac60-95fef00614fc"
      },
      "outputs": [
        {
          "output_type": "display_data",
          "data": {
            "text/plain": [
              "\u001b[3m              Largest Rectangle in Histogram               \u001b[0m\n",
              "┏━━━┳━━━━┳━━━━━┳━━━━━┳━━━━━━━━━━━━━━━━━━━━━┳━━━━━━━━━━━━━━┓\n",
              "┃\u001b[1m \u001b[0m\u001b[1mi\u001b[0m\u001b[1m \u001b[0m┃\u001b[1m \u001b[0m\u001b[1m h\u001b[0m\u001b[1m \u001b[0m┃\u001b[1m \u001b[0m\u001b[1mpse\u001b[0m\u001b[1m \u001b[0m┃\u001b[1m \u001b[0m\u001b[1mnse\u001b[0m\u001b[1m \u001b[0m┃\u001b[1m \u001b[0m\u001b[1mw = (pse - nse - 1)\u001b[0m\u001b[1m \u001b[0m┃\u001b[1m \u001b[0m\u001b[1marea = w * h\u001b[0m\u001b[1m \u001b[0m┃\n",
              "┡━━━╇━━━━╇━━━━━╇━━━━━╇━━━━━━━━━━━━━━━━━━━━━╇━━━━━━━━━━━━━━┩\n",
              "│ 0 │  3 │  -1 │   1 │                   1 │            3 │\n",
              "│ 1 │  2 │  -1 │   8 │                   8 │           16 │\n",
              "│ 2 │ 10 │   1 │   4 │                   2 │           20 │\n",
              "│ 3 │ 11 │   2 │   4 │                   1 │           11 │\n",
              "│ 4 │  5 │   1 │   7 │                   5 │           25 │\n",
              "│ 5 │ 10 │   4 │   6 │                   1 │           10 │\n",
              "│ 6 │  6 │   4 │   7 │                   2 │           12 │\n",
              "│ 7 │  3 │   1 │   8 │                   6 │           18 │\n",
              "└───┴────┴─────┴─────┴─────────────────────┴──────────────┘\n"
            ],
            "text/html": [
              "<pre style=\"white-space:pre;overflow-x:auto;line-height:normal;font-family:Menlo,'DejaVu Sans Mono',consolas,'Courier New',monospace\"><span style=\"font-style: italic\">              Largest Rectangle in Histogram               </span>\n",
              "┏━━━┳━━━━┳━━━━━┳━━━━━┳━━━━━━━━━━━━━━━━━━━━━┳━━━━━━━━━━━━━━┓\n",
              "┃<span style=\"font-weight: bold\"> i </span>┃<span style=\"font-weight: bold\">  h </span>┃<span style=\"font-weight: bold\"> pse </span>┃<span style=\"font-weight: bold\"> nse </span>┃<span style=\"font-weight: bold\"> w = (pse - nse - 1) </span>┃<span style=\"font-weight: bold\"> area = w * h </span>┃\n",
              "┡━━━╇━━━━╇━━━━━╇━━━━━╇━━━━━━━━━━━━━━━━━━━━━╇━━━━━━━━━━━━━━┩\n",
              "│ 0 │  3 │  -1 │   1 │                   1 │            3 │\n",
              "│ 1 │  2 │  -1 │   8 │                   8 │           16 │\n",
              "│ 2 │ 10 │   1 │   4 │                   2 │           20 │\n",
              "│ 3 │ 11 │   2 │   4 │                   1 │           11 │\n",
              "│ 4 │  5 │   1 │   7 │                   5 │           25 │\n",
              "│ 5 │ 10 │   4 │   6 │                   1 │           10 │\n",
              "│ 6 │  6 │   4 │   7 │                   2 │           12 │\n",
              "│ 7 │  3 │   1 │   8 │                   6 │           18 │\n",
              "└───┴────┴─────┴─────┴─────────────────────┴──────────────┘\n",
              "</pre>\n"
            ]
          },
          "metadata": {}
        },
        {
          "output_type": "execute_result",
          "data": {
            "text/plain": [
              "25"
            ]
          },
          "metadata": {},
          "execution_count": 27
        }
      ],
      "source": [
        "from collections import deque\n",
        "from rich.console import Console\n",
        "from rich.table import Table\n",
        "\n",
        "console = Console()\n",
        "\n",
        "\n",
        "def largest_rectangle(heights: list[int]) -> int:\n",
        "  table = Table(title=f'Largest Rectangle in Histogram')\n",
        "  table.add_column('i', justify='right')\n",
        "  table.add_column('h', justify='right')\n",
        "  table.add_column('pse', justify='right')\n",
        "  table.add_column('nse', justify='right')\n",
        "  table.add_column('w = (pse - nse - 1)', justify='right')\n",
        "  table.add_column('area = w * h', justify='right')\n",
        "\n",
        "  n = len(heights)\n",
        "\n",
        "  left = pse_indices(heights)\n",
        "  right = nse_indices(heights)\n",
        "\n",
        "  max_areas = [0] * n\n",
        "\n",
        "  for i in range(n):\n",
        "    max_areas[i] = (right[i] - left[i] - 1) * heights[i]\n",
        "\n",
        "    table.add_row(str(i), str(heights[i]), str(left[i]), str(right[i]),\n",
        "                  str(right[i] - left[i] - 1), str(max_areas[i]))\n",
        "\n",
        "  console.print(table)\n",
        "\n",
        "  return max(max_areas)\n",
        "\n",
        "largest_rectangle(HISTOGRAM_BAR_HEIGHTS)"
      ]
    },
    {
      "cell_type": "markdown",
      "metadata": {
        "id": "yJ5PB8NXKz5W"
      },
      "source": [
        "### 8.2. Using computing PSE and NSE on the fly"
      ]
    },
    {
      "cell_type": "code",
      "execution_count": 28,
      "metadata": {
        "colab": {
          "base_uri": "https://localhost:8080/"
        },
        "id": "xRFF1zH1LdRT",
        "outputId": "742d9983-faf7-4932-dcc9-ed3f61c53621"
      },
      "outputs": [
        {
          "output_type": "stream",
          "name": "stdout",
          "text": [
            "i = 0\n",
            "========\n",
            "heights[i] = 3 ; stack = []\n",
            "stack.push(0)\n",
            "\n",
            "i = 1\n",
            "========\n",
            "heights[i] = 2 ; stack = [0]\n",
            "\n",
            "stack.top = 0 ; heights[stack.top] = 2 < 3 => stack.pop()\n",
            "pse = -1 ; nse = 1 ; area = 3 ; max_area = 3\n",
            "stack.push(1)\n",
            "\n",
            "i = 2\n",
            "========\n",
            "heights[i] = 10 ; stack = [1]\n",
            "stack.push(2)\n",
            "\n",
            "i = 3\n",
            "========\n",
            "heights[i] = 11 ; stack = [1 2]\n",
            "stack.push(3)\n",
            "\n",
            "i = 4\n",
            "========\n",
            "heights[i] = 5 ; stack = [1 2 3]\n",
            "\n",
            "stack.top = 3 ; heights[stack.top] = 5 < 11 => stack.pop()\n",
            "pse = 2 ; nse = 4 ; area = 11 ; max_area = 11\n",
            "\n",
            "stack.top = 2 ; heights[stack.top] = 5 < 10 => stack.pop()\n",
            "pse = 1 ; nse = 4 ; area = 20 ; max_area = 20\n",
            "stack.push(4)\n",
            "\n",
            "i = 5\n",
            "========\n",
            "heights[i] = 10 ; stack = [1 4]\n",
            "stack.push(5)\n",
            "\n",
            "i = 6\n",
            "========\n",
            "heights[i] = 6 ; stack = [1 4 5]\n",
            "\n",
            "stack.top = 5 ; heights[stack.top] = 6 < 10 => stack.pop()\n",
            "pse = 4 ; nse = 6 ; area = 10 ; max_area = 20\n",
            "stack.push(6)\n",
            "\n",
            "i = 7\n",
            "========\n",
            "heights[i] = 3 ; stack = [1 4 6]\n",
            "\n",
            "stack.top = 6 ; heights[stack.top] = 3 < 6 => stack.pop()\n",
            "pse = 4 ; nse = 7 ; area = 12 ; max_area = 20\n",
            "\n",
            "stack.top = 4 ; heights[stack.top] = 3 < 5 => stack.pop()\n",
            "pse = 1 ; nse = 7 ; area = 25 ; max_area = 25\n",
            "stack.push(7)\n",
            "\n",
            "stack = [1 7]\n",
            "\n",
            "stack.top = 7 ; heights[stack.top] = 3 => POP\n",
            "PSE = 1 ; NSE = 7 ; area = 15 ; max_area = 25\n",
            "\n",
            "stack.top = 1 ; heights[stack.top] = 2 => POP\n",
            "PSE = -1 ; NSE = 7 ; area = 14 ; max_area = 25\n"
          ]
        },
        {
          "output_type": "execute_result",
          "data": {
            "text/plain": [
              "25"
            ]
          },
          "metadata": {},
          "execution_count": 28
        }
      ],
      "source": [
        "from collections import deque\n",
        "\n",
        "\n",
        "def largest_rectangle_v2(heights: list[int]) -> int:\n",
        "\n",
        "  n = len(heights)\n",
        "  stack = deque()\n",
        "  max_area = 0\n",
        "\n",
        "  for i in range(n):\n",
        "\n",
        "    print(f'i = {i}\\n========\\nheights[i] = {heights[i]} ; stack = [{join_sequence_to_string(stack)}]')\n",
        "\n",
        "    while stack and heights[i] < heights[stack[-1]]:\n",
        "\n",
        "      print(f'\\nstack.top = {stack[-1]} ; heights[stack.top] = {heights[i]} < {heights[stack[-1]]} => stack.pop()')\n",
        "\n",
        "      height = heights[stack.pop()]\n",
        "      pse = stack[-1] if stack else -1\n",
        "      nse = i\n",
        "      area = (nse - pse - 1) * height\n",
        "      if area > max_area:\n",
        "        max_area = area\n",
        "\n",
        "      print(f'pse = {pse} ; nse = {nse} ; area = {area} ; max_area = {max_area}')\n",
        "\n",
        "    print(f'stack.push({i})\\n')\n",
        "\n",
        "    stack.append(i)\n",
        "\n",
        "  print(f'stack = [{join_sequence_to_string(stack)}]')\n",
        "\n",
        "  while stack:\n",
        "\n",
        "    print(f'\\nstack.top = {stack[-1]} ; heights[stack.top] = {heights[stack[-1]]} => POP')\n",
        "\n",
        "    h = heights[stack.pop()]\n",
        "    pse = stack[-1] if stack else -1\n",
        "    nse = n - 1\n",
        "    area = (nse - pse - 1) * h\n",
        "    if area > max_area:\n",
        "      max_area = area\n",
        "\n",
        "    print(f'PSE = {pse} ; NSE = {nse} ; area = {area} ; max_area = {max_area}')\n",
        "\n",
        "  return max_area\n",
        "\n",
        "largest_rectangle_v2(HISTOGRAM_BAR_HEIGHTS)"
      ]
    },
    {
      "cell_type": "markdown",
      "metadata": {
        "id": "h-whIS0fUpGn"
      },
      "source": [
        "## 9. Maximal Rectangle in Grid"
      ]
    },
    {
      "cell_type": "code",
      "execution_count": 29,
      "metadata": {
        "colab": {
          "base_uri": "https://localhost:8080/"
        },
        "id": "b4bwLH7IU0mY",
        "outputId": "f3097316-7724-4e0a-dffa-41e3de7ceb98"
      },
      "outputs": [
        {
          "output_type": "stream",
          "name": "stdout",
          "text": [
            "0 1 1 0\n",
            "1 1 1 1\n",
            "1 1 1 1\n",
            "1 1 0 0\n"
          ]
        }
      ],
      "source": [
        "GRID_2D = [\n",
        "  [0, 1, 1, 0],\n",
        "  [1, 1, 1, 1],\n",
        "  [1, 1, 1, 1],\n",
        "  [1, 1, 0, 0]\n",
        "]\n",
        "\n",
        "draw_grid(GRID_2D)"
      ]
    },
    {
      "cell_type": "code",
      "execution_count": 30,
      "metadata": {
        "colab": {
          "base_uri": "https://localhost:8080/"
        },
        "id": "1I0RNnbxUvUB",
        "outputId": "a481afb0-3d76-4675-e50a-f593321e1121"
      },
      "outputs": [
        {
          "output_type": "stream",
          "name": "stdout",
          "text": [
            "\n",
            "ROW 0\n",
            "======\n",
            "\n",
            "[0, 1, 1, 0]\n",
            "i = 0\n",
            "========\n",
            "heights[i] = 0 ; stack = []\n",
            "stack.push(0)\n",
            "\n",
            "i = 1\n",
            "========\n",
            "heights[i] = 1 ; stack = [0]\n",
            "stack.push(1)\n",
            "\n",
            "i = 2\n",
            "========\n",
            "heights[i] = 1 ; stack = [0 1]\n",
            "stack.push(2)\n",
            "\n",
            "i = 3\n",
            "========\n",
            "heights[i] = 0 ; stack = [0 1 2]\n",
            "\n",
            "stack.top = 2 ; heights[stack.top] = 0 < 1 => stack.pop()\n",
            "pse = 1 ; nse = 3 ; area = 1 ; max_area = 1\n",
            "\n",
            "stack.top = 1 ; heights[stack.top] = 0 < 1 => stack.pop()\n",
            "pse = 0 ; nse = 3 ; area = 2 ; max_area = 2\n",
            "stack.push(3)\n",
            "\n",
            "stack = [0 3]\n",
            "\n",
            "stack.top = 3 ; heights[stack.top] = 0 => POP\n",
            "PSE = 0 ; NSE = 3 ; area = 0 ; max_area = 2\n",
            "\n",
            "stack.top = 0 ; heights[stack.top] = 0 => POP\n",
            "PSE = -1 ; NSE = 3 ; area = 0 ; max_area = 2\n",
            "\n",
            "ROW 1\n",
            "======\n",
            "\n",
            "[1, 2, 2, 1]\n",
            "i = 0\n",
            "========\n",
            "heights[i] = 1 ; stack = []\n",
            "stack.push(0)\n",
            "\n",
            "i = 1\n",
            "========\n",
            "heights[i] = 2 ; stack = [0]\n",
            "stack.push(1)\n",
            "\n",
            "i = 2\n",
            "========\n",
            "heights[i] = 2 ; stack = [0 1]\n",
            "stack.push(2)\n",
            "\n",
            "i = 3\n",
            "========\n",
            "heights[i] = 1 ; stack = [0 1 2]\n",
            "\n",
            "stack.top = 2 ; heights[stack.top] = 1 < 2 => stack.pop()\n",
            "pse = 1 ; nse = 3 ; area = 2 ; max_area = 2\n",
            "\n",
            "stack.top = 1 ; heights[stack.top] = 1 < 2 => stack.pop()\n",
            "pse = 0 ; nse = 3 ; area = 4 ; max_area = 4\n",
            "stack.push(3)\n",
            "\n",
            "stack = [0 3]\n",
            "\n",
            "stack.top = 3 ; heights[stack.top] = 1 => POP\n",
            "PSE = 0 ; NSE = 3 ; area = 2 ; max_area = 4\n",
            "\n",
            "stack.top = 0 ; heights[stack.top] = 1 => POP\n",
            "PSE = -1 ; NSE = 3 ; area = 3 ; max_area = 4\n",
            "\n",
            "ROW 2\n",
            "======\n",
            "\n",
            "[2, 3, 3, 2]\n",
            "i = 0\n",
            "========\n",
            "heights[i] = 2 ; stack = []\n",
            "stack.push(0)\n",
            "\n",
            "i = 1\n",
            "========\n",
            "heights[i] = 3 ; stack = [0]\n",
            "stack.push(1)\n",
            "\n",
            "i = 2\n",
            "========\n",
            "heights[i] = 3 ; stack = [0 1]\n",
            "stack.push(2)\n",
            "\n",
            "i = 3\n",
            "========\n",
            "heights[i] = 2 ; stack = [0 1 2]\n",
            "\n",
            "stack.top = 2 ; heights[stack.top] = 2 < 3 => stack.pop()\n",
            "pse = 1 ; nse = 3 ; area = 3 ; max_area = 3\n",
            "\n",
            "stack.top = 1 ; heights[stack.top] = 2 < 3 => stack.pop()\n",
            "pse = 0 ; nse = 3 ; area = 6 ; max_area = 6\n",
            "stack.push(3)\n",
            "\n",
            "stack = [0 3]\n",
            "\n",
            "stack.top = 3 ; heights[stack.top] = 2 => POP\n",
            "PSE = 0 ; NSE = 3 ; area = 4 ; max_area = 6\n",
            "\n",
            "stack.top = 0 ; heights[stack.top] = 2 => POP\n",
            "PSE = -1 ; NSE = 3 ; area = 6 ; max_area = 6\n",
            "\n",
            "ROW 3\n",
            "======\n",
            "\n",
            "[3, 4, 0, 0]\n",
            "i = 0\n",
            "========\n",
            "heights[i] = 3 ; stack = []\n",
            "stack.push(0)\n",
            "\n",
            "i = 1\n",
            "========\n",
            "heights[i] = 4 ; stack = [0]\n",
            "stack.push(1)\n",
            "\n",
            "i = 2\n",
            "========\n",
            "heights[i] = 0 ; stack = [0 1]\n",
            "\n",
            "stack.top = 1 ; heights[stack.top] = 0 < 4 => stack.pop()\n",
            "pse = 0 ; nse = 2 ; area = 4 ; max_area = 4\n",
            "\n",
            "stack.top = 0 ; heights[stack.top] = 0 < 3 => stack.pop()\n",
            "pse = -1 ; nse = 2 ; area = 6 ; max_area = 6\n",
            "stack.push(2)\n",
            "\n",
            "i = 3\n",
            "========\n",
            "heights[i] = 0 ; stack = [2]\n",
            "stack.push(3)\n",
            "\n",
            "stack = [2 3]\n",
            "\n",
            "stack.top = 3 ; heights[stack.top] = 0 => POP\n",
            "PSE = 2 ; NSE = 3 ; area = 0 ; max_area = 6\n",
            "\n",
            "stack.top = 2 ; heights[stack.top] = 0 => POP\n",
            "PSE = -1 ; NSE = 3 ; area = 0 ; max_area = 6\n"
          ]
        },
        {
          "output_type": "execute_result",
          "data": {
            "text/plain": [
              "6"
            ]
          },
          "metadata": {},
          "execution_count": 30
        }
      ],
      "source": [
        "def maximal_rectange_in_grid(grid: list[list[int]]) -> int:\n",
        "  n_rows = len(grid)\n",
        "  n_cols = len(grid[0])\n",
        "\n",
        "  heights = [0] * n_cols\n",
        "\n",
        "  max_area = 0\n",
        "\n",
        "  for i in range(n_rows):\n",
        "    print(f\"\\nROW {i}\\n======\\n\")\n",
        "    for j in range(n_cols):\n",
        "      if grid[i][j] == 0:\n",
        "        heights[j] = 0\n",
        "      else:\n",
        "        heights[j] += 1\n",
        "\n",
        "    print(heights)\n",
        "\n",
        "    max_area = max(max_area, largest_rectangle_v2(heights))\n",
        "\n",
        "  return max_area\n",
        "\n",
        "maximal_rectange_in_grid(GRID_2D)"
      ]
    },
    {
      "cell_type": "markdown",
      "metadata": {
        "id": "HrEI7BmjEb-5"
      },
      "source": [
        "## 10. Remove `k` Digits"
      ]
    },
    {
      "cell_type": "code",
      "execution_count": 31,
      "metadata": {
        "colab": {
          "base_uri": "https://localhost:8080/",
          "height": 283
        },
        "id": "UCReESinEhKG",
        "outputId": "d33009d0-a9e7-4198-daff-996778d28a21"
      },
      "outputs": [
        {
          "output_type": "display_data",
          "data": {
            "text/plain": [
              "\u001b[3m         Remove K Digits          \u001b[0m\n",
              "┏━━━┳━━━━━━━━┳━━━━━━━━━━━━━━━┳━━━┓\n",
              "┃\u001b[1m \u001b[0m\u001b[1mi\u001b[0m\u001b[1m \u001b[0m┃\u001b[1m \u001b[0m\u001b[1mnum(i)\u001b[0m\u001b[1m \u001b[0m┃\u001b[1m \u001b[0m\u001b[1mstack        \u001b[0m\u001b[1m \u001b[0m┃\u001b[1m \u001b[0m\u001b[1mk\u001b[0m\u001b[1m \u001b[0m┃\n",
              "┡━━━╇━━━━━━━━╇━━━━━━━━━━━━━━━╇━━━┩\n",
              "│ 0 │      1 │ 1             │ 3 │\n",
              "│ 1 │      9 │ 1 9           │ 3 │\n",
              "│ 2 │      2 │ 1 2           │ 2 │\n",
              "│ 3 │      4 │ 1 2 4         │ 2 │\n",
              "│ 4 │      5 │ 1 2 4 5       │ 2 │\n",
              "│ 5 │      6 │ 1 2 4 5 6     │ 2 │\n",
              "│ 6 │      7 │ 1 2 4 5 6 7   │ 2 │\n",
              "│ 7 │      8 │ 1 2 4 5 6 7 8 │ 2 │\n",
              "│ - │      - │ 1 2 4 5 6 7   │ 1 │\n",
              "│ - │      - │ 1 2 4 5 6     │ 0 │\n",
              "└───┴────────┴───────────────┴───┘\n"
            ],
            "text/html": [
              "<pre style=\"white-space:pre;overflow-x:auto;line-height:normal;font-family:Menlo,'DejaVu Sans Mono',consolas,'Courier New',monospace\"><span style=\"font-style: italic\">         Remove K Digits          </span>\n",
              "┏━━━┳━━━━━━━━┳━━━━━━━━━━━━━━━┳━━━┓\n",
              "┃<span style=\"font-weight: bold\"> i </span>┃<span style=\"font-weight: bold\"> num(i) </span>┃<span style=\"font-weight: bold\"> stack         </span>┃<span style=\"font-weight: bold\"> k </span>┃\n",
              "┡━━━╇━━━━━━━━╇━━━━━━━━━━━━━━━╇━━━┩\n",
              "│ 0 │      1 │ 1             │ 3 │\n",
              "│ 1 │      9 │ 1 9           │ 3 │\n",
              "│ 2 │      2 │ 1 2           │ 2 │\n",
              "│ 3 │      4 │ 1 2 4         │ 2 │\n",
              "│ 4 │      5 │ 1 2 4 5       │ 2 │\n",
              "│ 5 │      6 │ 1 2 4 5 6     │ 2 │\n",
              "│ 6 │      7 │ 1 2 4 5 6 7   │ 2 │\n",
              "│ 7 │      8 │ 1 2 4 5 6 7 8 │ 2 │\n",
              "│ - │      - │ 1 2 4 5 6 7   │ 1 │\n",
              "│ - │      - │ 1 2 4 5 6     │ 0 │\n",
              "└───┴────────┴───────────────┴───┘\n",
              "</pre>\n"
            ]
          },
          "metadata": {}
        },
        {
          "output_type": "execute_result",
          "data": {
            "text/plain": [
              "'12456'"
            ],
            "application/vnd.google.colaboratory.intrinsic+json": {
              "type": "string"
            }
          },
          "metadata": {},
          "execution_count": 31
        }
      ],
      "source": [
        "from collections import deque\n",
        "from collections import deque\n",
        "from rich.console import Console\n",
        "from rich.table import Table\n",
        "\n",
        "console = Console()\n",
        "\n",
        "\n",
        "def remove_k_digits(num: str, k: int) -> str:\n",
        "\n",
        "  stack = deque()\n",
        "\n",
        "  n = len(num)\n",
        "\n",
        "  table = Table(title=f'Remove K Digits')\n",
        "  table.add_column('i', justify='right')\n",
        "  table.add_column('num(i)', justify='right')\n",
        "  table.add_column('stack')\n",
        "  table.add_column('k', justify='right')\n",
        "\n",
        "  if k >= n:\n",
        "    return '0'\n",
        "\n",
        "  for i in range(n):\n",
        "\n",
        "    while k > 0 and stack and stack[-1] > num[i]:\n",
        "      stack.pop()\n",
        "      k -= 1\n",
        "\n",
        "    stack.append(num[i])\n",
        "\n",
        "    table.add_row(str(i), str(num[i]), join_sequence_to_string(stack), str(k))\n",
        "\n",
        "  while k > 0:\n",
        "    stack.pop()\n",
        "    k -= 1\n",
        "\n",
        "    table.add_row('-', '-', join_sequence_to_string(stack), str(k))\n",
        "\n",
        "  console.print(table)\n",
        "\n",
        "  if not stack:\n",
        "    return '0'\n",
        "\n",
        "  res = ''\n",
        "\n",
        "  while stack:\n",
        "    res += stack.pop()\n",
        "\n",
        "  res = res.rstrip('0') or '0'\n",
        "\n",
        "  return res[::-1]\n",
        "\n",
        "remove_k_digits('19245678', 3)"
      ]
    },
    {
      "cell_type": "markdown",
      "metadata": {
        "id": "N-cHelqBkfkc"
      },
      "source": [
        "## 11. Stock Price Spanner"
      ]
    },
    {
      "cell_type": "code",
      "execution_count": 32,
      "metadata": {
        "id": "YfoMIojFGxfK"
      },
      "outputs": [],
      "source": [
        "STOCK_PRICES = [7, 2, 1, 3, 3, 1, 8]"
      ]
    },
    {
      "cell_type": "code",
      "execution_count": 33,
      "metadata": {
        "colab": {
          "base_uri": "https://localhost:8080/",
          "height": 215
        },
        "id": "7aKdK-E7khCf",
        "outputId": "b204c342-8108-483d-9056-13455133ee3f"
      },
      "outputs": [
        {
          "output_type": "display_data",
          "data": {
            "text/plain": [
              "\u001b[3m               Stock Spanner               \u001b[0m\n",
              "┏━━━┳━━━━━━━┳━━━━━━━━━━━━━━━━━━━━━━┳━━━━━━┓\n",
              "┃\u001b[1m \u001b[0m\u001b[1mi\u001b[0m\u001b[1m \u001b[0m┃\u001b[1m \u001b[0m\u001b[1mprice\u001b[0m\u001b[1m \u001b[0m┃\u001b[1m \u001b[0m\u001b[1mstack               \u001b[0m\u001b[1m \u001b[0m┃\u001b[1m \u001b[0m\u001b[1mspan\u001b[0m\u001b[1m \u001b[0m┃\n",
              "┡━━━╇━━━━━━━╇━━━━━━━━━━━━━━━━━━━━━━╇━━━━━━┩\n",
              "│ 0 │     7 │ (0, 7)               │    1 │\n",
              "│ 1 │     2 │ (0, 7) (1, 2)        │    1 │\n",
              "│ 2 │     1 │ (0, 7) (1, 2) (2, 1) │    1 │\n",
              "│ 3 │     3 │ (0, 7) (3, 3)        │    3 │\n",
              "│ 4 │     3 │ (0, 7) (4, 3)        │    4 │\n",
              "│ 5 │     1 │ (0, 7) (4, 3) (5, 1) │    1 │\n",
              "│ 6 │     8 │ (6, 8)               │    7 │\n",
              "└───┴───────┴──────────────────────┴──────┘\n"
            ],
            "text/html": [
              "<pre style=\"white-space:pre;overflow-x:auto;line-height:normal;font-family:Menlo,'DejaVu Sans Mono',consolas,'Courier New',monospace\"><span style=\"font-style: italic\">               Stock Spanner               </span>\n",
              "┏━━━┳━━━━━━━┳━━━━━━━━━━━━━━━━━━━━━━┳━━━━━━┓\n",
              "┃<span style=\"font-weight: bold\"> i </span>┃<span style=\"font-weight: bold\"> price </span>┃<span style=\"font-weight: bold\"> stack                </span>┃<span style=\"font-weight: bold\"> span </span>┃\n",
              "┡━━━╇━━━━━━━╇━━━━━━━━━━━━━━━━━━━━━━╇━━━━━━┩\n",
              "│ 0 │     7 │ (0, 7)               │    1 │\n",
              "│ 1 │     2 │ (0, 7) (1, 2)        │    1 │\n",
              "│ 2 │     1 │ (0, 7) (1, 2) (2, 1) │    1 │\n",
              "│ 3 │     3 │ (0, 7) (3, 3)        │    3 │\n",
              "│ 4 │     3 │ (0, 7) (4, 3)        │    4 │\n",
              "│ 5 │     1 │ (0, 7) (4, 3) (5, 1) │    1 │\n",
              "│ 6 │     8 │ (6, 8)               │    7 │\n",
              "└───┴───────┴──────────────────────┴──────┘\n",
              "</pre>\n"
            ]
          },
          "metadata": {}
        }
      ],
      "source": [
        "from collections import deque\n",
        "from rich.console import Console\n",
        "from rich.table import Table\n",
        "\n",
        "console = Console()\n",
        "\n",
        "\n",
        "class StockSpanner:\n",
        "  def __init__(self) -> None:\n",
        "    self.stack = deque()\n",
        "    self.i = -1\n",
        "\n",
        "  def next(self, price: int) -> int:\n",
        "    self.i += 1\n",
        "\n",
        "    while self.stack and self.stack[-1][1] <= price:\n",
        "      self.stack.pop()\n",
        "\n",
        "    span = self.i - (self.stack[-1][0] if self.stack else -1)\n",
        "\n",
        "    self.stack.append((self.i, price))\n",
        "\n",
        "    return span\n",
        "\n",
        "\n",
        "spanner = StockSpanner()\n",
        "\n",
        "table = Table(title=f'Stock Spanner')\n",
        "table.add_column('i', justify='right')\n",
        "table.add_column('price', justify='right')\n",
        "table.add_column('stack')\n",
        "table.add_column('span', justify='right')\n",
        "\n",
        "for price in STOCK_PRICES:\n",
        "  span = spanner.next(price)\n",
        "  i = spanner.i\n",
        "  stack = join_sequence_to_string(spanner.stack)\n",
        "\n",
        "  table.add_row(str(spanner.i), str(price), stack, str(span))\n",
        "\n",
        "console.print(table)\n"
      ]
    },
    {
      "cell_type": "markdown",
      "metadata": {
        "id": "iVGS8mxRKikC"
      },
      "source": [
        "## 12. Sliding Window Maximum\n",
        "\n"
      ]
    },
    {
      "cell_type": "code",
      "source": [
        "SLIDING_WINDOW_DATA = [1, 3, -1, -3, 5, 3, 7, 1, 6]\n",
        "SLIDING_WINDOW_SIZE = 3"
      ],
      "metadata": {
        "id": "650ryYk1G7i8"
      },
      "execution_count": 34,
      "outputs": []
    },
    {
      "cell_type": "code",
      "execution_count": 35,
      "metadata": {
        "colab": {
          "base_uri": "https://localhost:8080/",
          "height": 266
        },
        "id": "lcOGvmr7Klg0",
        "outputId": "1d5c3ae7-272a-4809-b6b3-5c97d478718c"
      },
      "outputs": [
        {
          "output_type": "display_data",
          "data": {
            "text/plain": [
              "\u001b[3m        Sliding Window Maximum         \u001b[0m\n",
              "┏━━━┳━━━━━━━━━┳━━━━━━━━━┳━━━━━━━┳━━━━━┓\n",
              "┃\u001b[1m \u001b[0m\u001b[1mi\u001b[0m\u001b[1m \u001b[0m┃\u001b[1m \u001b[0m\u001b[1mwindow \u001b[0m\u001b[1m \u001b[0m┃\u001b[1m \u001b[0m\u001b[1mnums(i)\u001b[0m\u001b[1m \u001b[0m┃\u001b[1m \u001b[0m\u001b[1mdq   \u001b[0m\u001b[1m \u001b[0m┃\u001b[1m \u001b[0m\u001b[1mmax\u001b[0m\u001b[1m \u001b[0m┃\n",
              "┡━━━╇━━━━━━━━━╇━━━━━━━━━╇━━━━━━━╇━━━━━┩\n",
              "│ 0 │ -       │       1 │ 0     │   - │\n",
              "│ 1 │ -       │       3 │ 1     │   - │\n",
              "│ 2 │ 1 3 -1  │      -1 │ 1 2   │   3 │\n",
              "│ 3 │ 3 -1 -3 │      -3 │ 1 2 3 │   3 │\n",
              "│ 4 │ -1 -3 5 │       5 │ 4     │   5 │\n",
              "│ 5 │ -3 5 3  │       3 │ 4 5   │   5 │\n",
              "│ 6 │ 5 3 7   │       7 │ 6     │   7 │\n",
              "│ 7 │ 3 7 1   │       1 │ 6 7   │   7 │\n",
              "│ 8 │ 7 1 6   │       6 │ 6 8   │   7 │\n",
              "└───┴─────────┴─────────┴───────┴─────┘\n"
            ],
            "text/html": [
              "<pre style=\"white-space:pre;overflow-x:auto;line-height:normal;font-family:Menlo,'DejaVu Sans Mono',consolas,'Courier New',monospace\"><span style=\"font-style: italic\">        Sliding Window Maximum         </span>\n",
              "┏━━━┳━━━━━━━━━┳━━━━━━━━━┳━━━━━━━┳━━━━━┓\n",
              "┃<span style=\"font-weight: bold\"> i </span>┃<span style=\"font-weight: bold\"> window  </span>┃<span style=\"font-weight: bold\"> nums(i) </span>┃<span style=\"font-weight: bold\"> dq    </span>┃<span style=\"font-weight: bold\"> max </span>┃\n",
              "┡━━━╇━━━━━━━━━╇━━━━━━━━━╇━━━━━━━╇━━━━━┩\n",
              "│ 0 │ -       │       1 │ 0     │   - │\n",
              "│ 1 │ -       │       3 │ 1     │   - │\n",
              "│ 2 │ 1 3 -1  │      -1 │ 1 2   │   3 │\n",
              "│ 3 │ 3 -1 -3 │      -3 │ 1 2 3 │   3 │\n",
              "│ 4 │ -1 -3 5 │       5 │ 4     │   5 │\n",
              "│ 5 │ -3 5 3  │       3 │ 4 5   │   5 │\n",
              "│ 6 │ 5 3 7   │       7 │ 6     │   7 │\n",
              "│ 7 │ 3 7 1   │       1 │ 6 7   │   7 │\n",
              "│ 8 │ 7 1 6   │       6 │ 6 8   │   7 │\n",
              "└───┴─────────┴─────────┴───────┴─────┘\n",
              "</pre>\n"
            ]
          },
          "metadata": {}
        },
        {
          "output_type": "execute_result",
          "data": {
            "text/plain": [
              "[3, 3, 5, 5, 7, 7, 7]"
            ]
          },
          "metadata": {},
          "execution_count": 35
        }
      ],
      "source": [
        "from collections import deque\n",
        "from rich.console import Console\n",
        "from rich.table import Table\n",
        "\n",
        "console = Console()\n",
        "\n",
        "\n",
        "def sliding_window_maximum(nums: list[int], k: int) -> list[int]:\n",
        "  dq = deque()\n",
        "\n",
        "  n = len(nums)\n",
        "  n_windows = n - k + 1\n",
        "\n",
        "  max = [0] * n_windows\n",
        "\n",
        "  table = Table(title='Sliding Window Maximum')\n",
        "  table.add_column('i', justify='right')\n",
        "  table.add_column('window')\n",
        "  table.add_column('nums(i)', justify='right')\n",
        "  table.add_column('dq')\n",
        "  table.add_column('max[i]', justify='right')\n",
        "\n",
        "  for i in range(k - 1):\n",
        "    while dq and nums[dq[-1]] <= nums[i]:\n",
        "      dq.pop()\n",
        "    dq.append(i)\n",
        "\n",
        "    table.add_row(str(i), '-', str(nums[i]), join_sequence_to_string(dq), '-')\n",
        "\n",
        "  for i in range(n_windows):\n",
        "    w_i = i + k - 1\n",
        "\n",
        "    while dq and dq[0] < i:\n",
        "      dq.popleft()\n",
        "\n",
        "    while dq and nums[dq[-1]] <= nums[w_i]:\n",
        "      dq.pop()\n",
        "\n",
        "    dq.append(w_i)\n",
        "\n",
        "    max[i] = nums[dq[0]] if dq else nums[i]\n",
        "\n",
        "    table.add_row(str(w_i), join_sequence_to_string(nums[i: i + k]), str(nums[w_i]), join_sequence_to_string(dq), str(max[i]))\n",
        "\n",
        "  console.print(table)\n",
        "\n",
        "  return max\n",
        "\n",
        "\n",
        "sliding_window_maximum(SLIDING_WINDOW_DATA, SLIDING_WINDOW_SIZE)"
      ]
    },
    {
      "cell_type": "markdown",
      "metadata": {
        "id": "9I7nMaqLKmAe"
      },
      "source": [
        "## 13. Celebrity Problem"
      ]
    },
    {
      "cell_type": "code",
      "execution_count": 36,
      "metadata": {
        "colab": {
          "base_uri": "https://localhost:8080/"
        },
        "id": "qYtSvw8-_REY",
        "outputId": "b985a1e3-6f72-492a-b0e5-4a9c627cae70"
      },
      "outputs": [
        {
          "output_type": "execute_result",
          "data": {
            "text/plain": [
              "1"
            ]
          },
          "metadata": {},
          "execution_count": 36
        }
      ],
      "source": [
        "def celebrity(people: list[list[int]]) -> int:\n",
        "  n = len(people)\n",
        "\n",
        "  knows = [0] * n\n",
        "  known = [0] * n\n",
        "\n",
        "  for i in range(n):\n",
        "    for j in range(n):\n",
        "      if people[i][j] == 1:\n",
        "        knows[i] += 1\n",
        "        known[j] += 1\n",
        "\n",
        "  for i in range(n):\n",
        "    if knows[i] == 0 and known[i] == n - 1:\n",
        "      return i\n",
        "\n",
        "  return -1\n",
        "\n",
        "\n",
        "celebrity([\n",
        "    [0, 1, 1, 0],\n",
        "    [0, 0, 0, 0],\n",
        "    [0, 1, 0, 0],\n",
        "    [1, 1, 0, 0]\n",
        "])"
      ]
    },
    {
      "cell_type": "code",
      "execution_count": 37,
      "metadata": {
        "colab": {
          "base_uri": "https://localhost:8080/"
        },
        "id": "ywlxfRnYMyim",
        "outputId": "22190384-244f-457d-f29e-1a7eaa27e63d"
      },
      "outputs": [
        {
          "output_type": "execute_result",
          "data": {
            "text/plain": [
              "1"
            ]
          },
          "metadata": {},
          "execution_count": 37
        }
      ],
      "source": [
        "def celebrity_v2(people: list[list[int]]) -> int:\n",
        "  n = len(people)\n",
        "\n",
        "  top = 0\n",
        "  down = n - 1\n",
        "\n",
        "  while top < down:\n",
        "    if people[top][down]:\n",
        "      top += 1\n",
        "    elif people[down][top]:\n",
        "      down -= 1\n",
        "    else:\n",
        "      top += 1\n",
        "      down -= 1\n",
        "\n",
        "  if top > down:\n",
        "    return -1\n",
        "\n",
        "  for i in range(n):\n",
        "    if i != top and (people[top][i] == 1 or people[i][top] == 0):\n",
        "      return -1\n",
        "\n",
        "  return top\n",
        "\n",
        "celebrity_v2([\n",
        "    [0, 1, 1, 0],\n",
        "    [0, 0, 0, 0],\n",
        "    [0, 1, 0, 0],\n",
        "    [0, 1, 0, 0]\n",
        "])"
      ]
    }
  ],
  "metadata": {
    "colab": {
      "provenance": [],
      "authorship_tag": "ABX9TyO43b5FAf4lf+ej+yPZd+tN",
      "include_colab_link": true
    },
    "kernelspec": {
      "display_name": "Python 3",
      "name": "python3"
    },
    "language_info": {
      "name": "python"
    }
  },
  "nbformat": 4,
  "nbformat_minor": 0
}